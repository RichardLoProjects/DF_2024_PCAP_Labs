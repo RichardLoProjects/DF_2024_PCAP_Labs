{
 "cells": [
  {
   "cell_type": "markdown",
   "id": "159d43ad",
   "metadata": {},
   "source": [
    "### PCAP Training questions\n",
    "\n",
    "<p style=\"text-align:center;\">\n",
    "<img src=\"https://github.com/digital-futures-academy/DataScienceMasterResources/blob/main/Resources/datascience-notebook-header.png?raw=true\"\n",
    "     alt=\"DigitalFuturesLogo\"\n",
    "     style=\"float: center; margin-right: 10px;\" />\n",
    "</p>\n",
    "\n",
    "#### Module 3\n",
    "\n",
    "[Syllabus](https://pythoninstitute.org/assets/627e61fa6fe27591613128.pdf)"
   ]
  },
  {
   "cell_type": "markdown",
   "id": "1d7a1070",
   "metadata": {},
   "source": [
    "##### Module 3 - OOP"
   ]
  },
  {
   "cell_type": "markdown",
   "id": "a308573a",
   "metadata": {},
   "source": [
    "_Ex1_ What can we tell from the following code? `class A(B,C,E)` \n",
    "\n",
    "A. A is a superclass of B,C and E\n",
    "\n",
    "B. A is an object from either of the classes B,C or E\n",
    "\n",
    "C. A is a subclass of B,C and E\n",
    "\n",
    "D. B, C and E are on the same hierarchical level\n",
    "\n",
    "E. B is a subclass of C which is a subclass of E"
   ]
  },
  {
   "cell_type": "code",
   "execution_count": null,
   "id": "22d1df84",
   "metadata": {},
   "outputs": [],
   "source": []
  },
  {
   "cell_type": "markdown",
   "id": "544d84e6",
   "metadata": {},
   "source": [
    "<details> <summary> Click here for solutions (Ex1)</summary>\n",
    "    \n",
    "Correct answer: C\n",
    "    \n",
    "* A is wrong - we always point towards the higher level (just like exceptions), i.e. A points to its superclasses\n",
    "    \n",
    "* B is wrong - A is a class\n",
    "    \n",
    "* C is correct for the same reason A is wrong\n",
    "    \n",
    "* D is wrong - All we can tell is that B is on the same or lower level to C, which is on the same or lower level to E\n",
    "    \n",
    "* E is wrong - Same reason as D. It could be true, but it could also be that B and C or C and E are on the same level.\n",
    "</details>"
   ]
  },
  {
   "cell_type": "markdown",
   "id": "215384e1",
   "metadata": {},
   "source": [
    "_Ex2_ Consider the following code:"
   ]
  },
  {
   "cell_type": "code",
   "execution_count": 308,
   "id": "2c01a8de",
   "metadata": {},
   "outputs": [],
   "source": [
    "class A:\n",
    "    X=0\n",
    "    def __init__(self):\n",
    "        self.x = 5\n",
    "        \n",
    "class B(A):\n",
    "    Y=1\n",
    "    def __init__(self):\n",
    "        self.y = 7\n",
    "            \n",
    "a = A()\n",
    "b = B()"
   ]
  },
  {
   "cell_type": "markdown",
   "id": "ef7589ef",
   "metadata": {},
   "source": [
    "Select _ALL_ the options that will raise an exception:\n",
    "\n",
    "A. a.X\n",
    "\n",
    "B. a.y\n",
    "\n",
    "C. a.Y\n",
    "\n",
    "D. A.Y\n",
    "\n",
    "E. B.Y\n",
    "\n",
    "F. b.X"
   ]
  },
  {
   "cell_type": "code",
   "execution_count": null,
   "id": "da149584",
   "metadata": {},
   "outputs": [],
   "source": []
  },
  {
   "cell_type": "markdown",
   "id": "a71437a4",
   "metadata": {},
   "source": [
    "<details> <summary> Click here for solutions (Ex2) </summary>\n",
    "    \n",
    "Correct answers: B, C, D\n",
    "    \n",
    "* A is wrong as X is a class variable for A, and a is an object of class A\n",
    "    \n",
    "* B, C and D are all wrong for the same reason - y the instance variable and Y the class variable are all one level down from the object a or the class A; therefore it will raise an attribute error each time.\n",
    "    \n",
    "* E is wrong, class B has class variable Y\n",
    "    \n",
    "* F is wrong, instance b of class B will not find X within its class, so it will look at the class variables of all its superclasses in hierarchical order. It finds class variable X in superclass A and calls it from there.\n",
    "    \n",
    "</details>"
   ]
  },
  {
   "cell_type": "markdown",
   "id": "8b7c760f",
   "metadata": {},
   "source": [
    "_Ex3_ Consider the classes A() and B(A) from exercise 2. Which of the following class definitions is wrong?\n",
    "\n",
    "A. class C(A,B)\n",
    "\n",
    "B. class C()\n",
    "\n",
    "C. class C(B)\n",
    "\n",
    "D. class C(B,A)\n",
    "\n",
    "E. class C(A)"
   ]
  },
  {
   "cell_type": "code",
   "execution_count": null,
   "id": "5a1faab4",
   "metadata": {},
   "outputs": [],
   "source": []
  },
  {
   "cell_type": "markdown",
   "id": "4c9f666c",
   "metadata": {},
   "source": [
    "<details> <summary> Click here for solutions (Ex3) </summary>\n",
    "    \n",
    "Correct answer: A\n",
    "    \n",
    "* A is correct - we cannot call a class in hierarchy (A,B) since A is a superclass of B. This generates a special error specifying the MRO (method resolution order) would be inconsistent. This is because classes are read left to right - meaning A will be read first, then B. But when a class is read (in this case, B being the issue) we also inherit all of its superclasses' attributes, meaning we inherit A again. So: C is on the same level as B (both subclasses of A), but also a subclass of B (so one level lower than B) - which is contradictory. \n",
    "    \n",
    "* B is wrong - we can invoke an unrelated 'root' class with no superclass attached\n",
    "    \n",
    "* C is wrong - which places class C(B) 2 levels below A and 1 level below B.\n",
    "    \n",
    "* D is wrong - this is redundant, but doesn't generate a conflict. \n",
    "    \n",
    "* E is wrong - which places class C(A) 1 level below A, on the same level as B. \n",
    "    \n",
    "</details>"
   ]
  },
  {
   "cell_type": "markdown",
   "id": "0153ae75",
   "metadata": {},
   "source": [
    "_Ex4_ We consider option C, defining `class C(B)` (contents do not matter). Which ones of the following lines of code output True?\n",
    "\n",
    "A. issubclass(C,A)\n",
    "\n",
    "B. issuperclass(A,B)\n",
    "\n",
    "C. issubclass(A,B)\n",
    "\n",
    "D. issubclass(C,B,A)\n",
    "\n",
    "E. issubclass(B,B)"
   ]
  },
  {
   "cell_type": "code",
   "execution_count": null,
   "id": "60c858e2",
   "metadata": {},
   "outputs": [],
   "source": []
  },
  {
   "cell_type": "markdown",
   "id": "cfd1eef8",
   "metadata": {},
   "source": [
    "<details> <summary> Click here for solutions (Ex4) </summary>\n",
    "    \n",
    "Correct answers: A,E\n",
    "    \n",
    "* A is correct, since C is a subclass of B which is a subclass of A -- hence C is a subclass of A.\n",
    "    \n",
    "* B is wrong: issuperclass() is not a function!\n",
    "    \n",
    "* C is wrong: A is a superclass of B, not a subclass\n",
    "    \n",
    "* D is wrong: issubclass() only takes 2 arguments, comparing if arg1 is a subclass of arg2\n",
    "    \n",
    "* E is correct: any class is a subclass of itself\n",
    "    \n",
    "</details>"
   ]
  },
  {
   "cell_type": "markdown",
   "id": "277367d3",
   "metadata": {},
   "source": [
    "_Ex5_ Consider the following class: [**Medium**]"
   ]
  },
  {
   "cell_type": "code",
   "execution_count": 149,
   "id": "4e33de74",
   "metadata": {},
   "outputs": [],
   "source": [
    "class C():  \n",
    "    Z = 15\n",
    "    def __init__(self):\n",
    "        self.c = 2\n",
    "    def multiplier():\n",
    "        self.c *= 2"
   ]
  },
  {
   "cell_type": "markdown",
   "id": "77f9b12b",
   "metadata": {},
   "source": [
    "We then run this cell of code:\n",
    "```\n",
    "y = C()\n",
    "x = C()\n",
    "x.multiplier()\n",
    "y.multiplier()\n",
    "y.mutliplier()\n",
    "print(x.c)\n",
    "```\n",
    "What do we obtain?\n",
    "\n",
    "A. 2\n",
    "\n",
    "B. 4\n",
    "\n",
    "C. AttributeError\n",
    "\n",
    "D. TypeError\n",
    "\n",
    "E. 16\n",
    "\n",
    "F. 8"
   ]
  },
  {
   "cell_type": "code",
   "execution_count": null,
   "id": "07d8e03a",
   "metadata": {},
   "outputs": [],
   "source": []
  },
  {
   "cell_type": "markdown",
   "id": "088d412c",
   "metadata": {},
   "source": [
    "<details> <summary> Click here for solutions (Ex5) </summary>\n",
    "    \n",
    "Correct answer: D\n",
    "    \n",
    "* A,B,E and F are wrong - since the code won't run from the 3rd line where we try to call multiplier() with an implicit positional argument, when none are taken (since we missed the self, so in our class's definition multiplier() takes literally no arguments, which is impossible).\n",
    "    \n",
    "* C is wrong - it's not that we miss the multiplier() attribute, we have it in our class, it's just ill defined\n",
    "    \n",
    "* D is correct for the reason stated above\n",
    "    \n",
    "</details>"
   ]
  },
  {
   "cell_type": "markdown",
   "id": "302e920a",
   "metadata": {},
   "source": [
    "_Ex6_ We consider the classes A and B defined in exercise 2 again, with objects a and b: [**Medium**]\n",
    "```\n",
    "class A:\n",
    "    X=0\n",
    "    def __init__(self):\n",
    "        self.x = 5\n",
    "        \n",
    "class B(A):\n",
    "    Y=1\n",
    "    def __init__(self):\n",
    "        self.y = 7\n",
    "            \n",
    "a = A()\n",
    "b = B()\n",
    "```\n",
    "Which of the following do _NOT_ output `False`?\n",
    "\n",
    "A. isinstance(A,A)\n",
    "\n",
    "B. isinstance(A.X,A)\n",
    "\n",
    "C. isinstance(b,A)\n",
    "\n",
    "D. isinstance(a,A)\n",
    "\n",
    "E. isinstance(B,b)"
   ]
  },
  {
   "cell_type": "code",
   "execution_count": null,
   "id": "22d02cce",
   "metadata": {},
   "outputs": [],
   "source": []
  },
  {
   "cell_type": "markdown",
   "id": "70896f6c",
   "metadata": {},
   "source": [
    "<details> <summary> Click here for solutions (Ex6) </summary>\n",
    "    \n",
    "Correct answers: C, D, E\n",
    "\n",
    "* A is wrong because A is not an instance of A. isinstance() takes 2 parameters, an object and a class - so you might be tempted to think this code will error. However, it runs on account of classes being instantiators of objects and algorithmically defined like \"base objects\" in Python. But it will always return False, almost like asking if you are a copy of yourself. (This got really philosophical really quickly!)\n",
    "    \n",
    "* B is wrong since A.X is not an object of type A, it's a variable --> So we'll output False\n",
    "    \n",
    "* C is correct, since b is an object of type B which is a subclass of A; so in turn b is an object of type A. \"The object contains traits from its class AND all its super classes\". Think of it like numbers: Is 5 a real number? Well, 5 is an integer, integers are \"subclasses\" of rational numbers, and rational numbers are \"subclasses\" of real numbers so yes - 5 is indeed a real number. \n",
    "    \n",
    "* D is correct, a is a direct instantiation of class A.\n",
    "    \n",
    "* E is correct, it does not output False, it errors. This is because the 2nd argument must be a type (so, a class or aggregate) - whereas in our case it's an object. More specifically, it's a TypeError.\n",
    "</details>"
   ]
  },
  {
   "cell_type": "markdown",
   "id": "8cddaa40",
   "metadata": {},
   "source": [
    "_Ex7_ Consider the following classes: [**Hard**]"
   ]
  },
  {
   "cell_type": "code",
   "execution_count": 255,
   "id": "feff38c0",
   "metadata": {},
   "outputs": [],
   "source": [
    "class A():\n",
    "    A = 0\n",
    "    def __init__(self):\n",
    "        self.a = 'a'\n",
    "        self.v = 1\n",
    "    def string_extend(self, step=1):\n",
    "        self.v+= step\n",
    "        self.a *= self.v\n",
    "        A.A+= step//2\n",
    "\n",
    "class B(A):\n",
    "    def string_contract(self,dim):\n",
    "        self.a = self.a[:dim] "
   ]
  },
  {
   "cell_type": "markdown",
   "id": "2972c3ae",
   "metadata": {},
   "source": [
    "We execute the following:\n",
    "```\n",
    "a = A()\n",
    "a.string_extend(2)\n",
    "b = B()\n",
    "b.string_extend(3)\n",
    "a.string_extend()\n",
    "b.string_extend(-1)\n",
    "```\n",
    "Only select the `True` statements:\n",
    "\n",
    "A. b.v > a.v\n",
    "\n",
    "B. B.A == a.A\n",
    "\n",
    "C. a.a == b.a\n",
    "\n",
    "D. A.A == 3\n",
    "\n",
    "E. If we also run `b.string_contract(3)` then `b.a == 'aaaa'`"
   ]
  },
  {
   "cell_type": "code",
   "execution_count": 271,
   "id": "e2055893",
   "metadata": {},
   "outputs": [],
   "source": []
  },
  {
   "cell_type": "markdown",
   "id": "7106e57a",
   "metadata": {},
   "source": [
    "<details> <summary> Click here for solutions (Ex7) </summary>\n",
    "    \n",
    "Correct answers: B, C\n",
    "    \n",
    "* A is wrong. Let's follow the code together \n",
    "    - we run a.string_extend(2) which updates a.v to 3, a.a becoming 'aaa' and A (the class variable) becomes 2//2 = 1.\n",
    "    - We then extend b with 3, so b.v updates to 4, b.a becoming 'aaaa' and A becomes 1 + 3//2 = 1 + 1 = 2. \n",
    "    - We extend a with 1 (the default step), so a.v becomes 4, a.a becomes 'a'*12 and A does not extend: 2 + 1//2 = 2 + 0 = 2. \n",
    "    - Lastly, we extend b with -1, meaning: b.v becomes 4-1=3, b.a updates to 'a'*12 and A does not extend: 2 + -1//2 = 2+0 = 2.\n",
    "> So the final outcomes is that: a.v == 4, b.v ==3, a.a == b.a == 'a'*12 and A == 2.\n",
    "    \n",
    "* B is correct: We didn't even need to calculate for this one, B would be true regardless of the value A takes.\n",
    "    \n",
    "* C is correct, as shown above\n",
    "    \n",
    "* D is wrong, as shown above since A.A == 2\n",
    "    \n",
    "* E is wrong: Makes us do a little more work, but we're simply doing `'a'*12[:3]` which is 'aaa', so not 'aaaa'."
   ]
  },
  {
   "cell_type": "markdown",
   "id": "86b9ecf0",
   "metadata": {},
   "source": [
    "_Ex8_ On top of the classes in Exercise 7, we add the following:\n",
    "```\n",
    "class C(B):\n",
    "    __C=3\n",
    "        \n",
    "    def __string_amplify(self,char='b',times=1):\n",
    "        self.a += char*times\n",
    "```\n",
    "We then run the following:\n",
    "```\n",
    "c.string_extend(2)\n",
    "c.__string_amplify('d', 2)\n",
    "c.string_extend(2)\n",
    "c.string_contract(5)\n",
    "```\n",
    "What do we get for `c.a`?\n",
    "\n",
    "A. aaaad\n",
    "\n",
    "B. aaadd\n",
    "\n",
    "C. An error\n",
    "\n",
    "D. aaaaa\n",
    "\n",
    "E. addad"
   ]
  },
  {
   "cell_type": "code",
   "execution_count": 297,
   "id": "062c01e8",
   "metadata": {},
   "outputs": [],
   "source": []
  },
  {
   "cell_type": "markdown",
   "id": "2a26f645",
   "metadata": {},
   "source": [
    "<details> <summary> Click here for solutions (Ex8) </summary>\n",
    "    \n",
    "Correct answer: C\n",
    "    \n",
    "* A,B, D and E are wrong because the code doesn't work (Explained in Ex9)\n",
    "    \n",
    "* C is correct - To use a hidden method on the object of a class we need to specify the class as well. Thus, the correct way to call that would be `c._C__string_amplify('d', 2)`\n",
    "    \n",
    "</details>"
   ]
  },
  {
   "cell_type": "markdown",
   "id": "3e5c88de",
   "metadata": {},
   "source": [
    "_Ex9_ OK, we've now corrected our previous error. What is the output?\n",
    "\n",
    "A. aaaad\n",
    "\n",
    "B. aaadd\n",
    "\n",
    "C. aadda\n",
    "\n",
    "D. aaaaa\n",
    "\n",
    "E. addad"
   ]
  },
  {
   "cell_type": "code",
   "execution_count": null,
   "id": "8ee628ce",
   "metadata": {},
   "outputs": [],
   "source": []
  },
  {
   "cell_type": "markdown",
   "id": "4faa3889",
   "metadata": {},
   "source": [
    "<details> <summary> Click here for solutions (Ex9) </summary>\n",
    "    \n",
    "Correct answer: B\n",
    "    \n",
    "* A,C, D and E are wrong - it's only a matter of following the code. We start by\n",
    "    - Extending the string by 2, so 'a' becomes 'a'* (1+2) which is 'aaa'\n",
    "    - Amplifying it with 2 instances of 'd', so it becomes 'aaadd'. We could even stop here, since all our next moves will just add to the string, but we cut it down to 5 characters at the end any way.\n",
    "    - We extend it again by 2 - currently c.v=3, so c.v becomes 2+3 = 5 and then we multiply 'aaadd'*5.\n",
    "    - Lastly, we cut it down to the first 5 characters.\n",
    "\n",
    "* B is therefore correct: aaadd\n",
    "    \n",
    "</details>"
   ]
  },
  {
   "cell_type": "markdown",
   "id": "f07ec018",
   "metadata": {},
   "source": [
    "_Ex10_ What is the correct way to call C's hidden class variable?\n",
    "\n",
    "A. C.C\n",
    "\n",
    "B. C.__C\n",
    "\n",
    "C. C._C__C\n",
    "\n",
    "D. C.__C_C\n",
    "\n",
    "E. C._C"
   ]
  },
  {
   "cell_type": "code",
   "execution_count": null,
   "id": "caf8b508",
   "metadata": {},
   "outputs": [],
   "source": []
  },
  {
   "cell_type": "markdown",
   "id": "30227fb4",
   "metadata": {},
   "source": [
    "<details> <summary> Click here for solutions (Ex10) </summary>\n",
    "    \n",
    "Correct answer: C\n",
    "    \n",
    "* A is wrong: since C is hidden/encapsulated/private, that would never work\n",
    "    \n",
    "* B is wrong: for the same reason as portrayed in exercise 8\n",
    "    \n",
    "* C is correct\n",
    "    \n",
    "* D is wrong: we reversed the order which now makes no sense - we're calling the class from the variable rather than the variable from the class\n",
    "    \n",
    "* E is wrong: that notation in fact means nothing. _C is not private, it's just a variable that happens to start with an underscore (which is perfectly legal in Python!)\n",
    "</details>"
   ]
  },
  {
   "cell_type": "markdown",
   "id": "56e46d7c",
   "metadata": {},
   "source": [
    "_Ex11_ What does the `super()` function do?\n",
    "\n",
    "A. It provides a list of all subclasses of the specified class\n",
    "\n",
    "B. It can access the superclass without needing to know its name\n",
    "\n",
    "C. It's used to transfer the instance variables from the superclass\n",
    "\n",
    "D. It elevates a class to 1 level higher in the hierarchy, making it a superclass over its current level\n",
    "\n",
    "E. It doesn't exist."
   ]
  },
  {
   "cell_type": "code",
   "execution_count": null,
   "id": "f8a3e6ed",
   "metadata": {},
   "outputs": [],
   "source": []
  },
  {
   "cell_type": "markdown",
   "id": "a8915172",
   "metadata": {},
   "source": [
    "<details> <summary> Click here for solutions (Ex11) </summary>\n",
    "    \n",
    "Correct answer: B\n",
    "    \n",
    "* A is wrong - there is another method that does something like that!\n",
    "    \n",
    "* B is correct\n",
    "    \n",
    "* C is wrong, there is no such thing\n",
    "\n",
    "* D is very wrong! Can you imagine how that would tangle the hierarchy?\n",
    "    \n",
    "* E is wrong, it does exist.\n",
    "</details>"
   ]
  },
  {
   "cell_type": "markdown",
   "id": "96de79a1",
   "metadata": {},
   "source": [
    "_Ex12_ Consider the following classes, with actual contents irrelevant to the question:\n",
    "\n",
    "`class A()`\n",
    "\n",
    "`class B(A)`\n",
    "\n",
    "`class C(A)`\n",
    "\n",
    "`class D(C,B)`\n",
    "\n",
    "In which order will class D try to look for attributes in its hierarchy?\n",
    "\n",
    "A. Within itself, then B, then C, then A\n",
    "\n",
    "B. Within itself, then C, then B, then A\n",
    "\n",
    "C. A, then B, then C, then within itself\n",
    "\n",
    "D. Within itself, then A which contains B and C\n",
    "\n",
    "E. Only in A, which contains every other subclass"
   ]
  },
  {
   "cell_type": "code",
   "execution_count": null,
   "id": "5bcf9b6c",
   "metadata": {},
   "outputs": [],
   "source": []
  },
  {
   "cell_type": "markdown",
   "id": "cd3fc5fc",
   "metadata": {},
   "source": [
    "<details> <summary> Click here for solutions (Ex12) </summary>\n",
    "    \n",
    "Correct answer: B\n",
    "    \n",
    "* A is wrong, the order is top to bottom, left to right. This resolves the MRO even in cases such as above, which we refer to as \"Diamond Problems\". Therefore, it will check C (which sits to the left) before B.\n",
    "    \n",
    "* B is correct - presents the right MRO based on the above\n",
    "    \n",
    "* C is wrong - we inherit from top (lowest point) to bottom (highest point) - counterintuitive to what the hierarchical drawing typically looks like\n",
    "    \n",
    "* D is wrong, we don't skip checking classes just because they have an overarching superclass\n",
    "    \n",
    "* E is wrong for the same reason as D\n",
    "    \n",
    "</details>"
   ]
  },
  {
   "cell_type": "markdown",
   "id": "96984970",
   "metadata": {},
   "source": [
    "_Ex13_ Consider the following custom exception:\n",
    "```\n",
    "class KeyCheckError(Exception):\n",
    "    __CODE = 5024\n",
    "    pass\n",
    "```\n",
    "We run the following check:\n",
    "```\n",
    "Keys = ['ab52382', 'gs79232', 'hat58237', 'ju68232', 'il96342', 'AdminDF']\n",
    "try:\n",
    "    user = input(\"What's your key?: \")\n",
    "    if user not in Keys:\n",
    "        raise KeyCheckError\n",
    "    else:\n",
    "        print(\"Key accepted. Login successful.\")\n",
    "except KeyCheckError as K:\n",
    "    print(f\"{KeyCheckError._KeyCheckError__CODE} error: Your key {user} does not match any existing keys.\")\n",
    "```\n",
    "The user inputs the key: `ju68323`\n",
    "What happens?\n",
    "\n",
    "A. error: Your key ju68323 does not match any existing keys.\n",
    "\n",
    "B. KeyCheckError error: Your key ju68323 does not match any existing keys.\n",
    "\n",
    "C. Key accepted. Login successful.\n",
    "\n",
    "D. 5024 error: Your key ju68323 does not match any existing keys.\n",
    "\n",
    "E. K error: Your keys ju68323 does not match any existing keys."
   ]
  },
  {
   "cell_type": "code",
   "execution_count": 7,
   "id": "720e91f7",
   "metadata": {},
   "outputs": [],
   "source": []
  },
  {
   "cell_type": "markdown",
   "id": "bdb34342",
   "metadata": {},
   "source": [
    "<details> <summary> Click here for solutions (Ex13) </summary>\n",
    "    \n",
    "Correct answer: D\n",
    "    \n",
    "* A is wrong: completely ignores the data from the exception\n",
    "    \n",
    "* B is wrong: We're not printing the error's name\n",
    "    \n",
    "* C is wrong: The key is wrong\n",
    "    \n",
    "* D is correct: That's how we grab the hidden class variable representing the error code for our exception\n",
    "    \n",
    "* E is wrong: Even if we were printing the error name, as suggested in option B, it would print the full error name (KeyCheckError), not the alias given in the exception branch.\n",
    "    \n",
    "</details>"
   ]
  },
  {
   "cell_type": "markdown",
   "id": "5c8609d6",
   "metadata": {},
   "source": [
    "_Ex14_ Consider the following class hierarchy from previous exercises:\n",
    "```\n",
    "class A()\n",
    "class B(A)\n",
    "class C(A)\n",
    "class D(C,B,A)\n",
    "```\n",
    "What is the output of the following code:\n",
    "`D.__bases__[1].__bases__[0].__bases__[0]`\n",
    "\n",
    "A. __main__.A\n",
    "\n",
    "B. __main__.B\n",
    "\n",
    "C. __main__.C\n",
    "\n",
    "D. __main__.D\n",
    "\n",
    "E. object\n",
    "\n",
    "F. Throws an error"
   ]
  },
  {
   "cell_type": "code",
   "execution_count": null,
   "id": "936ff99c",
   "metadata": {},
   "outputs": [],
   "source": []
  },
  {
   "cell_type": "markdown",
   "id": "8bd3ba12",
   "metadata": {},
   "source": [
    "<details> <summary> Click here for solutions (Ex14) </summary>\n",
    "    \n",
    "Correct answer: E\n",
    "  \n",
    "* A is wrong: This is also a matter of following the hierarchy. Remember that `__bases__` does NOT simply return the name of a class, but its entire construction - meaning we can chain them as seen in the example above. So starting from D, its bases are in MRO order (C,B,A). So its 2nd base is B. We then move on to B, whose first and only base is A. Lastly, A is the root class, so its base is type `object` - meaning the right answer is E.\n",
    "    \n",
    "* B,C and D are wrong for the same reason as A\n",
    "    \n",
    "* E is correct, as shown above\n",
    "    \n",
    "* F is wrong: If we went one level deeper, we would indeed encounter an error, since classes have bases whereas objects do not.\n",
    "</details>"
   ]
  },
  {
   "cell_type": "markdown",
   "id": "f18d6811",
   "metadata": {},
   "source": [
    "_Ex15_ When it comes to OOP, what do we mean by a polymorphism?\n",
    "\n",
    "A. It's a situation where the superclass overrides the multiple subclasses' behaviour by virtue or MRO priority.\n",
    "\n",
    "B. It's a situation where we have conflict, since methods needs to be named and invoked differently across classes and subclasses.\n",
    "\n",
    "C. It's a situation where we extend class flexibility, by overriding the superclass behaviour from the subclass by virtue of MRO priority.\n",
    "\n",
    "D. No such concept exists in OOP.\n",
    "\n",
    "E. It's a situation where a superclass becomes a subclass of one of its former subclasses and vice-versa."
   ]
  },
  {
   "cell_type": "code",
   "execution_count": null,
   "id": "e0a214c2",
   "metadata": {},
   "outputs": [],
   "source": []
  },
  {
   "cell_type": "markdown",
   "id": "60fc97df",
   "metadata": {},
   "source": [
    "<details> <summary> Click here for solutions (Ex15) </summary>\n",
    "    \n",
    "Correct answer: C\n",
    "    \n",
    "* A,B,D and E are simply wrong - in particular, we go from top to bottom, so the MRO is always consistent across object programming. \n",
    "    \n",
    "* C is the correct answer: If we have 2 methods named the same way, the direct class will take priority over any of its superclasses in calling the method. (by virtue of MRO)\n",
    "    \n",
    "</details>"
   ]
  },
  {
   "cell_type": "markdown",
   "id": "23c37ae7",
   "metadata": {},
   "source": [
    "_Ex16_ Consider the following two classes: [**Medium**]"
   ]
  },
  {
   "cell_type": "code",
   "execution_count": 93,
   "id": "a60e5518",
   "metadata": {},
   "outputs": [],
   "source": [
    "class Prime():\n",
    "    __EP = 2\n",
    "    def __init__(self):\n",
    "        self.a = 1\n",
    "    \n",
    "    def isPrime(self, p):\n",
    "        import math\n",
    "        for k in range(2, math.floor(math.sqrt(p))):\n",
    "            print(k)\n",
    "            if p%k==0:\n",
    "                self.a = 0\n",
    "                break\n",
    "                \n",
    "class Relation():\n",
    "    def __init__(self):\n",
    "        self.cousin = 0\n",
    "        self.sexy = 0\n",
    "        self.twin = 0\n",
    "    def rel(self,p,q):\n",
    "        import numpy as np\n",
    "        if np.abs(p-q)==2:\n",
    "            self.twin = 1\n",
    "        elif np.abs(p-q)==4:\n",
    "            self.cousin = 1\n",
    "        elif np.abs(p-q)==6:\n",
    "            self.sexy=1"
   ]
  },
  {
   "cell_type": "markdown",
   "id": "6d0785cb",
   "metadata": {},
   "source": [
    "We also create the objects:\n",
    "```\n",
    "p1 = Prime()\n",
    "p2 = Prime()\n",
    "r1 = Relation()\n",
    "r2 = Relation()\n",
    "```\n",
    "And run the following script:\n",
    "```\n",
    "p1.isPrime(53)\n",
    "p2.isPrime(59)\n",
    "r1.rel(53,59)\n",
    "r2.rel(57,55)\n",
    "```\n",
    "Select _ALL_ `True` statements:\n",
    "\n",
    "A. `p2.a==1`\n",
    "\n",
    "B. `r1.twin + r1.sexy == r2.cousin + r1.cousin`\n",
    "\n",
    "C. `r2.twin == 0`\n",
    "\n",
    "D. `p1.twin == 0`\n",
    "\n",
    "E. `r2.twin + r2.sexy == r1.twin + r1.sexy`"
   ]
  },
  {
   "cell_type": "code",
   "execution_count": null,
   "id": "2f60fe64",
   "metadata": {},
   "outputs": [],
   "source": []
  },
  {
   "cell_type": "markdown",
   "id": "8c0b95e4",
   "metadata": {},
   "source": [
    "<details> <summary> Click here for solutions (Ex16) </summary>\n",
    "    \n",
    "Correct answers: A, E\n",
    "    \n",
    "* A is correct - 59 is prime\n",
    "    \n",
    "* B is wrong: (53,59) is a sexy pair so r1.sexy=1, but (55,57) is a twin pair so r2.cousin=0 (and similarly, r1.cousin==r1.twin==0); so 0 + 1 != 0 + 0\n",
    "    \n",
    "* C is wrong: (55,57) is a twin pair, so r2.twin == 1\n",
    "    \n",
    "* D is wrong: p1 has no attribute twin, since the two classes are unrelated\n",
    "    \n",
    "* E is correct: r2.twin == r1.sexy == 1; whereas r2.sexy == r1.twin == 0; so 1 + 0 = 0 + 1 = 1\n",
    "</details>"
   ]
  },
  {
   "cell_type": "markdown",
   "id": "446b6de5",
   "metadata": {},
   "source": [
    "_BONUS: Ex17_ [**HARD**] Part 2 of ex16 "
   ]
  },
  {
   "cell_type": "code",
   "execution_count": 117,
   "id": "ecb095e3",
   "metadata": {},
   "outputs": [],
   "source": [
    "class Tester(Prime, Relation):\n",
    "    ''' Your task will be to write this class without changing the ones above '''\n",
    "    ## This class is meant to combine the two above\n",
    "    ## We should use it to test whether a pair of numbers is:\n",
    "    ## ['sexy primes', 'cousin primes', 'twin primes', 'at least one of them is not prime']\n",
    "t = Tester()"
   ]
  },
  {
   "cell_type": "code",
   "execution_count": null,
   "id": "81fb9bee",
   "metadata": {},
   "outputs": [],
   "source": []
  }
 ],
 "metadata": {
  "kernelspec": {
   "display_name": "Python 3 (ipykernel)",
   "language": "python",
   "name": "python3"
  },
  "language_info": {
   "codemirror_mode": {
    "name": "ipython",
    "version": 3
   },
   "file_extension": ".py",
   "mimetype": "text/x-python",
   "name": "python",
   "nbconvert_exporter": "python",
   "pygments_lexer": "ipython3",
   "version": "3.9.17"
  }
 },
 "nbformat": 4,
 "nbformat_minor": 5
}
