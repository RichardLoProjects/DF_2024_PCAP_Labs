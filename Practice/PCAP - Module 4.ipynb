{
 "cells": [
  {
   "cell_type": "markdown",
   "id": "159d43ad",
   "metadata": {},
   "source": [
    "### PCAP Training questions\n",
    "\n",
    "<p style=\"text-align:center;\">\n",
    "<img src=\"https://github.com/digital-futures-academy/DataScienceMasterResources/blob/main/Resources/datascience-notebook-header.png?raw=true\"\n",
    "     alt=\"DigitalFuturesLogo\"\n",
    "     style=\"float: center; margin-right: 10px;\" />\n",
    "</p>\n",
    "\n",
    "#### Module 4\n",
    "\n",
    "[Syllabus](https://pythoninstitute.org/assets/627e61fa6fe27591613128.pdf)"
   ]
  },
  {
   "cell_type": "markdown",
   "id": "bc132ec9",
   "metadata": {},
   "source": [
    "##### Module 4 - Miscellaneous "
   ]
  },
  {
   "cell_type": "markdown",
   "id": "4bd7c022",
   "metadata": {},
   "source": [
    "_Ex18_ Consider the code below. What will it output?\n",
    "```\n",
    "gen = (x for x in range(6))\n",
    "gen.__next__()\n",
    "gen.__next__()\n",
    "lst = [gen.__next__() for i in range(3)]\n",
    "\n",
    "print(lst)\n",
    "```\n",
    "\n",
    "A. [0,1,2]\n",
    "\n",
    "B. [2,3,4]\n",
    "\n",
    "C. [3,4,5]\n",
    "\n",
    "D. [0,1,2,3]\n",
    "\n",
    "E. [1,2,3]"
   ]
  },
  {
   "cell_type": "code",
   "execution_count": null,
   "id": "f3df4f61",
   "metadata": {},
   "outputs": [],
   "source": []
  },
  {
   "cell_type": "markdown",
   "id": "0f8e2732",
   "metadata": {},
   "source": [
    "<details> <summary> Click here for solutions (Ex18) </summary>\n",
    "    \n",
    "Correct answer: B\n",
    "    \n",
    "* A,C,D and E are wrong - we have to follow the code. gen is a generator containing the range(6), which are elements 0,1,2,3,4,5. For generators, once an element is called, it gets erased (or rather emptied) - think of them like containers. So when we first run `gen.__next__()` calling the next element, we pop out 0 (the first element in the list). We call it again, popping the next element, i.e. 1. Currently, our generator is now (2,3,4,5). The `lst` we create will pop out 3 consecutive iterations from our generator, meaning [2,3,4] - which is the correct answer.\n",
    "    \n",
    "* B is correct as described above\n",
    "    \n",
    "</details>"
   ]
  },
  {
   "cell_type": "markdown",
   "id": "ed4b7c1d",
   "metadata": {},
   "source": [
    "_Ex19_ What's the output of the following code:\n",
    "```[x for x in map(lambda x: 2*x+1 if x%2==0 else x, [3,5,8])]```\n",
    "\n",
    "A. [7,11,8]\n",
    "\n",
    "B. [3,5,17]\n",
    "\n",
    "C. [3,5,8]\n",
    "\n",
    "D. Throws an error\n",
    "\n",
    "E. [7,11,17]"
   ]
  },
  {
   "cell_type": "code",
   "execution_count": null,
   "id": "804d2cb6",
   "metadata": {},
   "outputs": [],
   "source": []
  },
  {
   "cell_type": "markdown",
   "id": "f25e62de",
   "metadata": {},
   "source": [
    "<details> <summary> Click here for solutions (Ex19) </summary>\n",
    "    \n",
    "Correct answer: B\n",
    "    \n",
    "* A is wrong - the even numbers get multiplied, not the odd ones\n",
    "    \n",
    "* B is correct - the odd numbers stay the same [3,5], and the even numbers get the 2*x+1 function applied - meaning 8 becomes 17.\n",
    "    \n",
    "* C is wrong - The map does change our iterable\n",
    "    \n",
    "* D is wrong - all syntax is correct; even though we don't need to use a comprehension to extract the elements. We could simply wrap the map() inside a list() instead\n",
    "    \n",
    "* E is wrong - not all elements see modified behaviour, i.e. 2*x+1 applied\n",
    "    \n",
    "</details>"
   ]
  },
  {
   "cell_type": "markdown",
   "id": "c80e3485",
   "metadata": {},
   "source": [
    "_Ex20_ What will the length of this object be? [**Hard**]"
   ]
  },
  {
   "cell_type": "code",
   "execution_count": null,
   "id": "080deac5",
   "metadata": {},
   "outputs": [],
   "source": [
    "list(filter(lambda x: x in \n",
    "            list(\n",
    "                map(\n",
    "                    lambda x: x*2 if hasattr(x, '__iter__') \n",
    "                    else x**2, ['ku', 9, [3,8,3], (2,)]\n",
    "                )\n",
    "            ),\n",
    "            ['kuku', 18, [3,8,3], (8,)]))"
   ]
  },
  {
   "cell_type": "markdown",
   "id": "3d439d7b",
   "metadata": {},
   "source": [
    "A. 4\n",
    "\n",
    "B. 2\n",
    "\n",
    "C. 1\n",
    "\n",
    "D. 0\n",
    "\n",
    "E. 3"
   ]
  },
  {
   "cell_type": "code",
   "execution_count": null,
   "id": "e01389fe",
   "metadata": {},
   "outputs": [],
   "source": []
  },
  {
   "cell_type": "markdown",
   "id": "cea36424",
   "metadata": {},
   "source": [
    "<details> <summary> Click here for solutions (Ex20) </summary>\n",
    "    \n",
    "Correct answer: C\n",
    "    \n",
    "* A,B,D and E are wrong - we follow the code once again: We'll apply a filter for x to be in our iterable at the end, i.e. `['kuku', 18, [3,8,3], (8,)]`. x is defined in terms of a mapped list `['ku', 9, [3,8,3], (2,)]` where if x has the attribute of being an iterable then we double it, otherwise we square it. From our list, the only non-iterable is 9 (an integer); all the rest (string, list and tuple respectively) are iterables. So the mapped list is ['ku'*2, 9**2, [3,8,3]*2, (2,)*2] which is equal to `['kuku', 81, [3,8,3,3,8,3], (2,2)]`. From these elements we only pick the ones that match the filter's target iterable - which as we can see is only 'kuku'; so the length of our list is 1.\n",
    "    \n",
    "* C is correct as reasoned above\n",
    "    \n",
    "</details>"
   ]
  },
  {
   "cell_type": "markdown",
   "id": "2a10cbc6",
   "metadata": {},
   "source": [
    "_Ex21_ You are given the following function:\n",
    "```\n",
    "def update_dict():\n",
    "    dict2 = {'R':'Best Language'}\n",
    "    dict2.update({'Python':'Second best'})\n",
    "    return lambda: dict2\n",
    "```\n",
    "What is the output of the code: `print(update_dict()())`\n",
    "\n",
    "A. TypeError\n",
    "\n",
    "B. SyntaxError\n",
    "\n",
    "C. None\n",
    "\n",
    "D. {'R':'Best Language', 'Python':'Second best'}\n",
    "\n",
    "E. Another type of error\n",
    "\n",
    "F. {'Python':'Second best', 'R':'Best Language'}"
   ]
  },
  {
   "cell_type": "code",
   "execution_count": null,
   "id": "a7168a4a",
   "metadata": {},
   "outputs": [],
   "source": []
  },
  {
   "cell_type": "markdown",
   "id": "7770521f",
   "metadata": {},
   "source": [
    "<details> <summary> Click here for solutions (Ex21) </summary>\n",
    "    \n",
    "Correct answer: D\n",
    "    \n",
    "* A,B,E are wrong as the code does not error\n",
    "    \n",
    "* C is wrong, since we correctly print the output of the double functions - one defined, one anonymous\n",
    "    \n",
    "* D is correct, as we update the former dictionary with another entry which goes to the right (as all things in Python, which are read left to right)\n",
    "    \n",
    "* F is wrong for the reason D is correct\n",
    "    \n",
    "</details>"
   ]
  },
  {
   "cell_type": "markdown",
   "id": "b6ba6d14",
   "metadata": {},
   "source": [
    "_Ex22_ What is the output of the following code:\n",
    "```\n",
    "def recursive_function(n):\n",
    "    return 1 if n==1 else n * recursive_function(n-1)\n",
    "print(recursive_function(5))\n",
    "```\n",
    "\n",
    "A. 720\n",
    "\n",
    "B. 120\n",
    "\n",
    "C. 24\n",
    "\n",
    "D. Errors\n",
    "\n",
    "E. Infinite loop"
   ]
  },
  {
   "cell_type": "code",
   "execution_count": null,
   "id": "e534629e",
   "metadata": {},
   "outputs": [],
   "source": []
  },
  {
   "cell_type": "markdown",
   "id": "ac40975e",
   "metadata": {},
   "source": [
    "<details> <summary> Click here for solutions (Ex22) </summary>\n",
    "    \n",
    "Correct answer: 120\n",
    "    \n",
    "* A is wrong - the function calls itself 5 times, not 6\n",
    "    \n",
    "* B is correct\n",
    "    \n",
    "* C is wrong - the function calls itself 5 times, not 4\n",
    "\n",
    "* D is wrong - the function works as intended\n",
    "    \n",
    "* E is wrong - since we continuously decrease the step and have an exit clause when we hit 1, we won't enter an infinite loop\n",
    "    \n",
    "    _This question was written by ChatGPT_\n",
    "    \n",
    "</details>"
   ]
  },
  {
   "cell_type": "markdown",
   "id": "10d4cb80",
   "metadata": {},
   "source": [
    "_Ex23_ What does the following file location say?\n",
    "```\n",
    "os.chdir(\"./folder2/subfolder1\")\n",
    "os.chdir(\"..\")\n",
    "os.getcwd()\n",
    "```\n",
    "A. We're currently in the main parent directory\n",
    "\n",
    "B. The code errors\n",
    "\n",
    "C. We're in subfolder1\n",
    "\n",
    "D. We changed to a different folder or subfolder of the parent file\n",
    "\n",
    "E. We're in folder2"
   ]
  },
  {
   "cell_type": "code",
   "execution_count": null,
   "id": "5f73076a",
   "metadata": {},
   "outputs": [],
   "source": []
  },
  {
   "cell_type": "markdown",
   "id": "99464618",
   "metadata": {},
   "source": [
    "<details> <summary> Click here for solutions (Ex23) </summary>\n",
    "    \n",
    "Correct answer: E\n",
    "    \n",
    "* A is wrong - we've gone down 2 levels and only went up 1\n",
    "    \n",
    "* B is wrong, the code is correct\n",
    "    \n",
    "* C is wrong, we did go down to subfolder1 at some point, but then went back up 1 level\n",
    "    \n",
    "* D is wrong, and makes little sense. No operation sends you to a random folder/subfolder\n",
    "    \n",
    "* E is correct - 2 levels down, 1 up we find ourselves in folder2\n",
    "    \n",
    "</details>"
   ]
  },
  {
   "cell_type": "markdown",
   "id": "f189ade9",
   "metadata": {},
   "source": [
    "_Ex24_ We open the following file in this way:\n",
    "\n",
    "`f = open('file.txt', 'a+b')`\n",
    "It means that:\n",
    "\n",
    "A. We opened the file stream in text format, to be appended and deleted\n",
    "\n",
    "B. We opened the file stream in binary, to write, read or update\n",
    "\n",
    "C. We opened the file stream in binary, to be appended and updated\n",
    "\n",
    "D. We opened the file stream in binary, to be read only\n",
    "\n",
    "E. We opened the file stream in text format, for exclusive creation"
   ]
  },
  {
   "cell_type": "code",
   "execution_count": null,
   "id": "9c2a19ae",
   "metadata": {},
   "outputs": [],
   "source": []
  },
  {
   "cell_type": "markdown",
   "id": "1cb2c17b",
   "metadata": {},
   "source": [
    "<details> <summary> Click here for solutions (Ex24) </summary>\n",
    "    \n",
    "Correct answer: C\n",
    "    \n",
    "* A is wrong - that doesn't exist, since we can't delete with append mode selected.\n",
    "    \n",
    "* B is wrong - that would be 'w+b'\n",
    "    \n",
    "* C is correct - appending and updating means 'a+', binary is 'b'\n",
    "    \n",
    "* D is wrong, that would be 'rb'\n",
    "    \n",
    "* E is wrong, that would be (the very interesting!) 'xt'\n",
    "    \n",
    "</details>"
   ]
  },
  {
   "cell_type": "markdown",
   "id": "846644c0",
   "metadata": {},
   "source": [
    "_Ex25_ Which of the following streams of data are opened without the need for the `open()` function:\n",
    "\n",
    "A. The standard output\n",
    "\n",
    "B. The standard function call\n",
    "\n",
    "C. The standard error input\n",
    "\n",
    "D. The standard error output\n",
    "\n",
    "E. The standard input"
   ]
  },
  {
   "cell_type": "code",
   "execution_count": null,
   "id": "7ed925ba",
   "metadata": {},
   "outputs": [],
   "source": []
  },
  {
   "cell_type": "markdown",
   "id": "1641d5e4",
   "metadata": {},
   "source": [
    "<details> <summary> Click here for solutions (Ex25) </summary>\n",
    "    \n",
    "Correct answers: A, D, E\n",
    "    \n",
    "* A is correct: sys.stdout is us receiving data out from the system, i.e. by virtue of `print()`\n",
    "    \n",
    "* B is wrong - calling functions does not open any stream\n",
    "    \n",
    "* C is wrong, inputting errors (creating?) does not open streams\n",
    "    \n",
    "* D is correct: sys.stderr is when we get errors output to the screen from Python\n",
    "    \n",
    "* E is correct: sys.stdin is us pre-opening for reading, i.e. inputting data into the system by virtue of `input()`\n",
    "</details>"
   ]
  },
  {
   "cell_type": "markdown",
   "id": "cdcbd2d0",
   "metadata": {},
   "source": [
    "_Ex26_ Which of the following is _NOT_ an `os` method?\n",
    "\n",
    "A. listdirs()\n",
    "\n",
    "B. removedirs()\n",
    "\n",
    "C. system()\n",
    "\n",
    "D. getcwd()\n",
    "\n",
    "E. makedirs()"
   ]
  },
  {
   "cell_type": "code",
   "execution_count": null,
   "id": "2e052214",
   "metadata": {},
   "outputs": [],
   "source": []
  },
  {
   "cell_type": "markdown",
   "id": "3dc23618",
   "metadata": {},
   "source": [
    "<details> <summary> Click here for solutions (Ex26) </summary>\n",
    "    \n",
    "Correct answer: A\n",
    "    \n",
    "* A is correct - listdirs() is not a function, only `listdir()` is: which lists the contents of the cwd\n",
    "    \n",
    "* B is wrong, `removedirs()` is the plural version of `rmdir()`\n",
    "    \n",
    "* C is wrong, `system()` allows for interaction between os and the CMD\n",
    "    \n",
    "* D is wrong, we use `getcwd()` to print the current work directory (cwd)\n",
    "    \n",
    "* E is wrong: `makedirs()` is used to create multiple directories at once, the plural of `mkdir()`\n",
    "    \n",
    "</details>"
   ]
  }
 ],
 "metadata": {
  "kernelspec": {
   "display_name": "Python 3 (ipykernel)",
   "language": "python",
   "name": "python3"
  },
  "language_info": {
   "codemirror_mode": {
    "name": "ipython",
    "version": 3
   },
   "file_extension": ".py",
   "mimetype": "text/x-python",
   "name": "python",
   "nbconvert_exporter": "python",
   "pygments_lexer": "ipython3",
   "version": "3.9.17"
  }
 },
 "nbformat": 4,
 "nbformat_minor": 5
}
