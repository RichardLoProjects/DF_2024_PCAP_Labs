{
 "cells": [
  {
   "cell_type": "markdown",
   "id": "5df189d7",
   "metadata": {},
   "source": [
    "### PCAP Training questions\n",
    "\n",
    "<p style=\"text-align:center;\">\n",
    "<img src=\"https://github.com/digital-futures-academy/DataScienceMasterResources/blob/main/Resources/datascience-notebook-header.png?raw=true\"\n",
    "     alt=\"DigitalFuturesLogo\"\n",
    "     style=\"float: center; margin-right: 10px;\" />\n",
    "</p>\n",
    "\n",
    "#### Modules 1 & 2\n",
    "\n",
    "[Syllabus](https://pythoninstitute.org/assets/627e61fa6fe27591613128.pdf)"
   ]
  },
  {
   "cell_type": "markdown",
   "id": "5d588e04",
   "metadata": {},
   "source": [
    "##### Module 1 - Modules, Packages and PIP"
   ]
  },
  {
   "cell_type": "markdown",
   "id": "8839b4a7",
   "metadata": {},
   "source": [
    "_Ex1_ What is the correct way to import the `ceil` function from the `math` module?\n",
    "\n",
    "A. `from ceil import math`\n",
    "\n",
    "B. `import math.ceil as ce`\n",
    "\n",
    "C. `from math as ce import ceil`\n",
    "\n",
    "D. `import ceil as ce from math`\n",
    "\n",
    "E. `from math import ceil`"
   ]
  },
  {
   "cell_type": "markdown",
   "id": "8c3e3ca9",
   "metadata": {},
   "source": [
    "<details> <summary> Click here for solutions (Ex1) </summary>\n",
    "Correct answers: E\n",
    "    \n",
    "*    A is wrong since we should import the function (ceil) from the module (math), not the other way around\n",
    "    \n",
    "*     B is wrong, as math is NOT a package, but a module\n",
    "    \n",
    "*     C is wrong since the order of syntax is from > import > as\n",
    "    \n",
    "*     D is wrong for the same reason as C\n",
    "    \n",
    "*     E is correct (and standard)\n",
    "    \n",
    "</details>"
   ]
  },
  {
   "cell_type": "markdown",
   "id": "eb1c5584",
   "metadata": {},
   "source": [
    "_Ex2_ Which one of the following code-output pairs is genuine?\n",
    "`from platform import *`\n",
    "\n",
    "A. `machine()` : 'AMD64 Family 28 Model 75 Stepping 0, AuthenticAMD'\n",
    "\n",
    "B. `python_version` : '3.8.10'\n",
    "\n",
    "C. `platform()` : 'Windows-11-2.0'\n",
    "\n",
    "D. `python_version_tuple()[0]` : '1'\n",
    "\n",
    "E. `system()` : 'Python kernel - py32.//htx721'"
   ]
  },
  {
   "cell_type": "code",
   "execution_count": null,
   "id": "f7dbe3d0",
   "metadata": {},
   "outputs": [],
   "source": []
  },
  {
   "cell_type": "markdown",
   "id": "6bec03aa",
   "metadata": {},
   "source": [
    "<details> <summary> Click here for solutions (Ex2) </summary>\n",
    "    \n",
    "Correct answer: C\n",
    "    \n",
    "* A is wrong since machine() only prints the generic machine, eg: AMD64. That output matches the platform\n",
    "    \n",
    "* B is wrong because it's missing the brackets - this way it will output the function object\n",
    "    \n",
    "* C is correct: platform prints the operating platform, usually a more detailed version of the OS\n",
    "    \n",
    "* D is wrong because Python major version 1 doesn't exist. The output should always be '3' since we use Python 3\n",
    "    \n",
    "* E is wrong because system() prints your OS. Platform as a module informs you about your platform, not about the environment.\n",
    "    \n",
    "</details>"
   ]
  },
  {
   "cell_type": "markdown",
   "id": "554cabcf",
   "metadata": {},
   "source": [
    "_Ex3_ What will the following code output:\n",
    "```\n",
    "from math import *\n",
    "\n",
    "dir(math)\n",
    "\n",
    "```\n",
    "A. NameError\n",
    "\n",
    "B. A list of all math module attributes, not including the hidden ones\n",
    "\n",
    "C. A list of all math module dependencies\n",
    "\n",
    "D. A list of all math module attributes, including the hidden ones\n",
    "\n",
    "E. A list of only the hidden math module attributes"
   ]
  },
  {
   "cell_type": "code",
   "execution_count": null,
   "id": "361076e8",
   "metadata": {},
   "outputs": [],
   "source": []
  },
  {
   "cell_type": "markdown",
   "id": "147bd4a8",
   "metadata": {},
   "source": [
    "<details> <summary> Click here for solutions (Ex3) </summary>\n",
    "    \n",
    "Correct answer: A\n",
    "    \n",
    "* A is correct - We have not imported the math module, but all of its contents\n",
    "    \n",
    "* B is wrong because we have not imported the math module. Even if we had, dir() includes the hidden attributes\n",
    "    \n",
    "* C is just wrong\n",
    "    \n",
    "* D would be correct if we imported the math module\n",
    "    \n",
    "* E is just wrong\n",
    "    \n",
    "</details>"
   ]
  },
  {
   "cell_type": "markdown",
   "id": "f0b868e6",
   "metadata": {},
   "source": [
    "_Ex4_ Which of the following is **not** a pip command?\n",
    "\n",
    "A. show\n",
    "\n",
    "B. elapse\n",
    "\n",
    "C. wheel\n",
    "\n",
    "D. uninstall\n",
    "\n",
    "E. help"
   ]
  },
  {
   "cell_type": "code",
   "execution_count": null,
   "id": "81080a88",
   "metadata": {},
   "outputs": [],
   "source": []
  },
  {
   "cell_type": "markdown",
   "id": "732c280c",
   "metadata": {},
   "source": [
    "<details> <summary> Click here for solutions (Ex4) </summary>\n",
    "    \n",
    "Correct answer: B\n",
    "    \n",
    "* A is wrong because pip show will give you information about installed packages\n",
    "    \n",
    "* B is correct, no such thing as pip elapse\n",
    "    \n",
    "* C is wrong because pip wheel archives requirements and dependencies (making Anaconda Navigator seem even less useful)\n",
    "    \n",
    "* D is wrong because pip uninstall is used to uninstall packages\n",
    "    \n",
    "* E is wrong because pip help is where you get information about pip itself\n",
    "</details>"
   ]
  },
  {
   "cell_type": "markdown",
   "id": "0559051f",
   "metadata": {},
   "source": [
    "_Ex5_ What's the result of the following equation (Assuming we imported math):\n",
    "\n",
    "`math.sqrt(math.factorial(5) - math.floor(math.exp(3)))`\n",
    "\n",
    "A. 20.0\n",
    "\n",
    "B. 12\n",
    "\n",
    "C. 10\n",
    "\n",
    "D. 10.0\n",
    "\n",
    "E. 12.0"
   ]
  },
  {
   "cell_type": "code",
   "execution_count": null,
   "id": "d8e8acd4",
   "metadata": {},
   "outputs": [],
   "source": []
  },
  {
   "cell_type": "markdown",
   "id": "776c9920",
   "metadata": {},
   "source": [
    "<details> <summary> Click here for solutions (Ex5) </summary>\n",
    "    \n",
    "Correct answer: D\n",
    "    \n",
    "* A is wrong by calculation\n",
    "    \n",
    "* B is wrong since it's an integer - the result of math.sqrt() is always a float\n",
    "    \n",
    "* C is wrong for the same reason as B\n",
    "    \n",
    "* D is correct by calculation\n",
    "    \n",
    "* E is wrong by calculation\n",
    "    \n",
    "</details>"
   ]
  },
  {
   "cell_type": "markdown",
   "id": "0f307e04",
   "metadata": {},
   "source": [
    "_Ex6_ We extracted the following numbers using a random algorithm: `5, 7, 18, 3` (ignore output type, eg: list).\n",
    "\n",
    "Which of the following codes couldn't have generated our outcome?\n",
    "\n",
    "A. ```\n",
    "for _ in range(4):\n",
    "    print(random.choice([1,2,3,4,5,6,7,8,9,10,11,12,13,14,15,16,17,18,19,20]))\n",
    "    ```\n",
    "    \n",
    "B. ```\n",
    "for _ in range(4):\n",
    "    print(random.randrange(3, 18))\n",
    "    ```\n",
    "\n",
    "C. ``` random.sample(list(range(0,30)), k=4) ```\n",
    "\n",
    "D. ```\n",
    "for _ in range(4):\n",
    "    print(random.randint(3,18))\n",
    "    ```"
   ]
  },
  {
   "cell_type": "code",
   "execution_count": null,
   "id": "7b5b9616",
   "metadata": {},
   "outputs": [],
   "source": []
  },
  {
   "cell_type": "markdown",
   "id": "0adec1b9",
   "metadata": {},
   "source": [
    "<details> <summary> Click here for solutions (Ex6) </summary>\n",
    "    \n",
    "Correct answer: B\n",
    "    \n",
    "* A is wrong because we can generate the 4 numbers from the presented list\n",
    "    \n",
    "* B is correct because the end parameter is not included in the range, so we cannot generate the number 18\n",
    "    \n",
    "* C is wrong because we could sample those 4 numbers arbitrarily from the list\n",
    "    \n",
    "* D is wrong because randint() includes both the start and the end\n",
    "    \n",
    "</details>"
   ]
  },
  {
   "cell_type": "markdown",
   "id": "a9cc9b09",
   "metadata": {},
   "source": [
    "_Ex7_ Which of the following is true about `random.seed()`\n",
    "\n",
    "A. It prints nothing when called\n",
    "\n",
    "B. It throws an error if called without a parameter\n",
    "\n",
    "C. `5.0` could not be used as a parameter for the seed\n",
    "\n",
    "D. It throws an error if you use a string as a parameter\n",
    "\n",
    "E. It can only be used at the beginning of a code cell "
   ]
  },
  {
   "cell_type": "code",
   "execution_count": null,
   "id": "b8b5c0f4",
   "metadata": {},
   "outputs": [],
   "source": []
  },
  {
   "cell_type": "markdown",
   "id": "c344bebf",
   "metadata": {},
   "source": [
    "<details> <summary> Click here for solutions (Ex7)</summary>\n",
    "    \n",
    "Correct answer: A\n",
    "    \n",
    "* A is correct - random.seed() just sets a seed, outputs nothing\n",
    "    \n",
    "* B is wrong since it will default to a numerical valuation of your current system date and time in asbence of a parameter\n",
    "    \n",
    "* C is wrong since 5.0==5 in Python\n",
    "    \n",
    "* D is wrong since you can pass strings (eg: 'apple') as parameters\n",
    "    \n",
    "* E is wrong since you can use .seed() anywhere in your cell, taking effect for everything below it\n",
    "    \n",
    "</details>"
   ]
  },
  {
   "cell_type": "markdown",
   "id": "8a350a61",
   "metadata": {},
   "source": [
    "_Ex8_ What is the name of the storage space for the base Python packages and types?\n",
    "\n",
    "A. Python Package Index\n",
    "\n",
    "B. \"The cheese shop\"\n",
    "\n",
    "C. Python Module Index\n",
    "\n",
    "D. PEP-8\n",
    "\n",
    "E. Python Standard Library"
   ]
  },
  {
   "cell_type": "code",
   "execution_count": null,
   "id": "656f0107",
   "metadata": {},
   "outputs": [],
   "source": []
  },
  {
   "cell_type": "markdown",
   "id": "b9febf8a",
   "metadata": {},
   "source": [
    "<details> <summary> Click here for solutions (Ex8)</summary> \n",
    "    \n",
    "Correct answer: E\n",
    "    \n",
    "* A is wrong - the PyPI contains all Python published packages, accessible for importing\n",
    "    \n",
    "* B is wrong - \"The cheese shop\" is just another name for PyPI\n",
    "\n",
    "* C is wrong - the PyMI contains only the standard modules, and is a list not a place\n",
    "    \n",
    "* D is wrong - PEP-8 is a coding standard\n",
    "    \n",
    "* E is correct - the Python Standard Library (PSL) contains all the base packages and object types\n",
    "    \n",
    "</details>"
   ]
  },
  {
   "cell_type": "markdown",
   "id": "a57ae99f",
   "metadata": {},
   "source": [
    "_Ex9_ What does PIP stand for?\n",
    "\n",
    "A. Python Interaction Protocol\n",
    "\n",
    "B. PIP install packages\n",
    "\n",
    "C. PIP install PIP\n",
    "\n",
    "D. Python Interface Portal\n",
    "\n",
    "E. Python Install Packages"
   ]
  },
  {
   "cell_type": "code",
   "execution_count": null,
   "id": "a60e976d",
   "metadata": {},
   "outputs": [],
   "source": []
  },
  {
   "cell_type": "markdown",
   "id": "b8d1d7da",
   "metadata": {},
   "source": [
    "<details> <summary> Click here for solutions (Ex9)</summary>\n",
    "    \n",
    "Correct answer: B\n",
    "    \n",
    "* A is wrong\n",
    "    \n",
    "* B is correct - the name showcases how repetitive the process is!\n",
    "    \n",
    "* C is wrong, slightly deviates from the truth\n",
    "    \n",
    "* D is wrong\n",
    "    \n",
    "* E is wrong (though makes more sense to me!)\n",
    "    \n",
    "</details>"
   ]
  },
  {
   "cell_type": "markdown",
   "id": "eefcd8de",
   "metadata": {},
   "source": [
    "##### Module 2 - Strings & Exceptions"
   ]
  },
  {
   "cell_type": "markdown",
   "id": "183cb899",
   "metadata": {},
   "source": [
    "_Ex10_ We have `my_str = 'racecar'`. Then which ones of the following **won't** result in an error:\n",
    "\n",
    "A. `my_str2 = my_str.copy()`\n",
    "\n",
    "B. `my_str2 = my_str[::-1]`\n",
    "\n",
    "C. `del my_str[2]`\n",
    "\n",
    "D. `my_str += ' vroom'`\n",
    "\n",
    "E. `my_str.insert(3,'q')`"
   ]
  },
  {
   "cell_type": "code",
   "execution_count": null,
   "id": "62fe8eb8",
   "metadata": {},
   "outputs": [],
   "source": []
  },
  {
   "cell_type": "markdown",
   "id": "240630cc",
   "metadata": {},
   "source": [
    "<details> <summary> Click here for solutions (Ex10)</summary>\n",
    "    \n",
    "Correct answers: B, D\n",
    "    \n",
    "* A is wrong as strings cannot be copied\n",
    "    \n",
    "* B is correct, we can index strings\n",
    "    \n",
    "* C is wrong, we cannot delete characters from within a string (In particular, strings are immutable)\n",
    "    \n",
    "* D is correct, we can concatenate strings\n",
    "    \n",
    "* E is wrong as strings are immutable \n",
    "    \n",
    "</details>"
   ]
  },
  {
   "cell_type": "markdown",
   "id": "56c6ffad",
   "metadata": {},
   "source": [
    "_Ex11_ Select the options that output `False`:\n",
    "\n",
    "A. `'angel' > 17`\n",
    "\n",
    "B. `'A' > 'a'`\n",
    "\n",
    "C. `'Hello' >= 'Hell'`\n",
    "\n",
    "D. `'ap'*3 < 'ap'*2.5`\n",
    "\n",
    "E. `6.000 > 6`"
   ]
  },
  {
   "cell_type": "code",
   "execution_count": null,
   "id": "432daf4c",
   "metadata": {},
   "outputs": [],
   "source": []
  },
  {
   "cell_type": "markdown",
   "id": "2fd25acc",
   "metadata": {},
   "source": [
    "<details> <summary> Click here for solutions (Ex11)</summary>\n",
    "    \n",
    "Correct answers: B, E\n",
    "    \n",
    "* A is wrong since it errors - we cannot compare strings and integers\n",
    "    \n",
    "* B is correct since uppercase characters come before lowercase, hence it's False\n",
    "    \n",
    "* C is wrong since the output is True\n",
    "    \n",
    "* D is wrong since it errors - cannot multiply a string float many times\n",
    "    \n",
    "* E is correct since 6.000 == 6, hence it's False\n",
    "    \n",
    "</details>"
   ]
  },
  {
   "cell_type": "markdown",
   "id": "34acda8b",
   "metadata": {},
   "source": [
    "_Ex12_ All of the following are `True`, except one:\n",
    "\n",
    "A. `not('ah' not in 'hahahah')`\n",
    "\n",
    "B. `'' in 'Republican'` \n",
    "\n",
    "C. `'arg' in 'gragrgagr'`\n",
    "\n",
    "D. `'''''' in 'I have not seen the road'`\n",
    "\n",
    "E. `\"'\" in 'I don\\'t know'`"
   ]
  },
  {
   "cell_type": "code",
   "execution_count": null,
   "id": "0fa3a984",
   "metadata": {},
   "outputs": [],
   "source": []
  },
  {
   "cell_type": "markdown",
   "id": "ef40571e",
   "metadata": {},
   "source": [
    "<details> <summary> Click here for solutions (Ex12)</summary>\n",
    "    \n",
    "Correct answer: C\n",
    "    \n",
    "* A is wrong since the double negation makes it True\n",
    "    \n",
    "* B is wrong since an empty string is in any string\n",
    "    \n",
    "* C is correct - although all individual characters are in the string, we're looking for an exact substring match\n",
    "    \n",
    "* D is wrong for the same reason as B, even if multiline string\n",
    "    \n",
    "* E is wrong because there is a character match\n",
    "    \n",
    "</details> "
   ]
  },
  {
   "cell_type": "markdown",
   "id": "a690e746",
   "metadata": {},
   "source": [
    "_Ex13_ Which ones of the following are correct ways of sorting a string called `my_str`?\n",
    "\n",
    "A. ```\n",
    "f = list(my_str)\n",
    "f.sort()\n",
    "    ```\n",
    "\n",
    "B. `sorted(my_str)`\n",
    "\n",
    "C. `my_str.sort()`\n",
    "\n",
    "D. `my_str.sorted()`\n",
    "\n",
    "E. `sort(my_str)`\n"
   ]
  },
  {
   "cell_type": "code",
   "execution_count": null,
   "id": "926f7c40",
   "metadata": {},
   "outputs": [],
   "source": []
  },
  {
   "cell_type": "markdown",
   "id": "061da221",
   "metadata": {},
   "source": [
    "<details> <summary> Click here for solutions (Ex13)</summary>\n",
    "    \n",
    "Correct answers: A, B\n",
    "    \n",
    "* A is correct - turn it into a list, then sort the list\n",
    "    \n",
    "* B is correct - standard way of sorting a string\n",
    "    \n",
    "* C is wrong - .sort() is not a string method\n",
    "    \n",
    "* D is wrong - sorted() is a function not a method\n",
    "    \n",
    "* E is wrong - sort() is not a function, it's a method - and a list method rather than string\n",
    "    \n",
    "</details>"
   ]
  },
  {
   "cell_type": "markdown",
   "id": "ad1f4e69",
   "metadata": {},
   "source": [
    "_Ex14_ Select all the `True` statements:\n",
    "\n",
    "A. `min('arTifacTqq') > max('COSt!')`\n",
    "\n",
    "B. `'Kent_ucky75'.isalpha()`\n",
    "\n",
    "C. `'75CastorrAvenue'.isalnum()`\n",
    "\n",
    "D. `'\"'\" \"'\"'.isspace()`\n",
    "\n",
    "E. `'Coconut: Nut of Coco'.rfind('c') > 'Coconut: Nut of Coco'.find('c')`"
   ]
  },
  {
   "cell_type": "code",
   "execution_count": null,
   "id": "3e90c3a3",
   "metadata": {},
   "outputs": [],
   "source": []
  },
  {
   "cell_type": "markdown",
   "id": "a6f61742",
   "metadata": {},
   "source": [
    "<details> <summary> Click here for solutions (Ex14)</summary>\n",
    "    \n",
    "Correct answers: C, E\n",
    "    \n",
    "* A is wrong since min() is 'T' while max is either 't' or '!' (no need to know where '!' is in ASCII!). If it's '!', it means that ord('!') > ord('t') > ord('T'); so either way the expression is False\n",
    "    \n",
    "* B is wrong because '_' is not alphabetic, nor '7' and '5'\n",
    "    \n",
    "* C is correct - .alnum() checks for 0-9A-Za-z\n",
    "    \n",
    "* D is wrong since it contains multiple quote symbols as well as a space\n",
    "    \n",
    "* E is correct since there are 2 'c' characters in the string, so the rightmost one will be farther than the first one (In this particular example, 18 > 2)\n",
    "    \n",
    "</details>"
   ]
  },
  {
   "cell_type": "markdown",
   "id": "a6deb288",
   "metadata": {},
   "source": [
    "_Ex15_ Consider the string `str_1 = '#*#word*#*'`. We want to obtain the string `'#word*#'`. How could we obtain that? [**Medium**]\n",
    "\n",
    "A. `str_1.strip('*#')`\n",
    "\n",
    "B. `str_1.lstrip('#*').rstrip('*')`\n",
    "\n",
    "C. `str_1.rstrip('#').rstrip('*').lstrip('*').lstrip('#')`\n",
    "\n",
    "D. `str_1.lstrip('#').lstrip('*').rstrip('#').rstrip('*')`\n",
    "\n",
    "E. `'str_1.lstrip('*#*').rstrip('#*#')`"
   ]
  },
  {
   "cell_type": "code",
   "execution_count": null,
   "id": "7339bd57",
   "metadata": {},
   "outputs": [],
   "source": []
  },
  {
   "cell_type": "markdown",
   "id": "b3f1c035",
   "metadata": {},
   "source": [
    "<details> <summary> Click here for solutions (Ex15)</summary>\n",
    "    \n",
    "Correct answer: D\n",
    "    \n",
    "* A is wrong since that will strip every special character, leaving only 'word'. This is what you'd typically use for cleaning\n",
    "    \n",
    "* B is wrong as it completely strips the left side\n",
    "    \n",
    "* C is wrong since we first right strip # (nothing happens), then strip the * (right side now correct). However, we then left strip the * (nothing happens) and left strip a # --> we get: '*#word*#' which is close but not quite.\n",
    "    \n",
    "* D is correct: we left strip a # and a \\*, leaving the left side done. We then right strip a # (nothing happens) and right strip a * --> we get: '#word\\*#'\n",
    "    \n",
    "* E is wrong as we strip everything again, from left and then right.\n",
    "    \n",
    "<details>"
   ]
  },
  {
   "cell_type": "markdown",
   "id": "7b98e916",
   "metadata": {},
   "source": [
    "_Ex16_ What will the following code output?\n",
    "\n",
    "```\n",
    "try:\n",
    "    v = 'apple'.index('c')\n",
    "    v+= (17+17)/(17-17)\n",
    "    print(v)\n",
    "except TypeError:\n",
    "    print(\"TE\")\n",
    "except ValueError:\n",
    "    print(\"VE\")\n",
    "except ZeroDivisionError:\n",
    "    print(\"ZDE\")\n",
    "except:\n",
    "    print(\"XE\")\n",
    "else:\n",
    "    print(\"No error? No problem!\")\n",
    "```\n",
    "\n",
    "A. TE\n",
    "\n",
    "B. VE\n",
    "\n",
    "C. ZDE\n",
    "\n",
    "D. XE\n",
    "\n",
    "E. No error? No problem!"
   ]
  },
  {
   "cell_type": "code",
   "execution_count": null,
   "id": "d49ce49a",
   "metadata": {},
   "outputs": [],
   "source": []
  },
  {
   "cell_type": "markdown",
   "id": "84c27c97",
   "metadata": {},
   "source": [
    "<details> <summary> Click here for solutions (Ex16)</summary>\n",
    "    \n",
    "Correct answer: B\n",
    "    \n",
    "* A is wrong, since there is no issue with using .index() on a string, so the data type is correct, hence no TypeError\n",
    "    \n",
    "* B is correct - the first error we encounter is that there is no value 'c' in 'apple', therefore raising the VE error\n",
    "    \n",
    "* C is wrong - although there is a zero division error, there is an error that chronologically occurs before it (namely B)\n",
    "    \n",
    "* D is wrong since we already met an exception before reaching the generic branch (i.e. we handled it already)\n",
    "    \n",
    "* E is wrong as the code raises an exception\n",
    "    \n",
    "</details>"
   ]
  },
  {
   "cell_type": "markdown",
   "id": "c572d4c1",
   "metadata": {},
   "source": [
    "_Ex17_ What is the following code output?\n",
    "\n",
    "```\n",
    "try:\n",
    "    truth = 'Lord of the Rings: The Fellowship of the Ring is the best movie ever.'\n",
    "    v = truth.find('King')\n",
    "except ValueError:\n",
    "    print(\"The King is yet to return\")\n",
    "except IndexError:\n",
    "    print(\"The King is 2 movies away\")\n",
    "except LookupError:\n",
    "    print(\"My elf eyes don't see the King\")\n",
    "except:\n",
    "    print(\"Another King pun\")\n",
    "else:\n",
    "    print(\"The King has returned!\")\n",
    "```\n",
    "\n",
    "A. The King is yet to return\n",
    "\n",
    "B. The King is 2 movies away\n",
    "\n",
    "C. My elf eyes don't see the King\n",
    "\n",
    "D. Another King pun\n",
    "\n",
    "E. The King has returned!"
   ]
  },
  {
   "cell_type": "code",
   "execution_count": null,
   "id": "ea01f18f",
   "metadata": {},
   "outputs": [],
   "source": []
  },
  {
   "cell_type": "markdown",
   "id": "e9488769",
   "metadata": {},
   "source": [
    "<details> <summary> Click here for solutions (Ex17)</summary>\n",
    "    \n",
    "Correct answer: E\n",
    "    \n",
    "* A is wrong as there is no error - .find() returns -1 when there is no match to be found, so v= -1, which means no problem with the code!\n",
    "    \n",
    "* B is wrong (same reason)\n",
    "    \n",
    "* C is wrong (same reason)\n",
    "    \n",
    "* D is wrong (same reason)\n",
    "    \n",
    "* E is correct - the King has indeed returned\n",
    "    \n",
    "</details>"
   ]
  },
  {
   "cell_type": "markdown",
   "id": "97aba3c3",
   "metadata": {},
   "source": [
    "_Ex18_ Which of the following exceptions is a subclass of `Exception`?\n",
    "\n",
    "A. SystemExit\n",
    "\n",
    "B. KeyboardInterrupt\n",
    "\n",
    "C. OSError\n",
    "\n",
    "D. All of them\n",
    "\n",
    "E. GeneratorExit"
   ]
  },
  {
   "cell_type": "code",
   "execution_count": null,
   "id": "04f5d96d",
   "metadata": {},
   "outputs": [],
   "source": []
  },
  {
   "cell_type": "markdown",
   "id": "5c27bdad",
   "metadata": {},
   "source": [
    "<details> <summary> Click here for solutions (Ex18)</summary>\n",
    "    \n",
    "Correct answer: C (See [here](https://python.astrotech.io/basics/exception/hierarchy.html))\n",
    "    \n",
    "* A,B,E are subclasses of BaseException, on the same hierarchical level with Exception\n",
    "    \n",
    "* C is correct, as it is a subclass of Exception\n",
    "    \n",
    "* D is wrong - though you might be tempted to believe all exceptions fall under 'Exception', the root level is called 'BaseException' which contains 4 direct subclasses: A,B,E and Exception\n",
    "    \n",
    "</details>"
   ]
  }
 ],
 "metadata": {
  "kernelspec": {
   "display_name": "Python 3 (ipykernel)",
   "language": "python",
   "name": "python3"
  },
  "language_info": {
   "codemirror_mode": {
    "name": "ipython",
    "version": 3
   },
   "file_extension": ".py",
   "mimetype": "text/x-python",
   "name": "python",
   "nbconvert_exporter": "python",
   "pygments_lexer": "ipython3",
   "version": "3.9.17"
  }
 },
 "nbformat": 4,
 "nbformat_minor": 5
}
