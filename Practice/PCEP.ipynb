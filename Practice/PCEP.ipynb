{
 "cells": [
  {
   "cell_type": "markdown",
   "metadata": {
    "id": "Yt2yq5y6MTK6"
   },
   "source": [
    "### PCEP Training questions\n",
    "\n",
    "<p style=\"text-align:center;\">\n",
    "<img src=\"https://github.com/digital-futures-academy/DataScienceMasterResources/blob/main/Resources/datascience-notebook-header.png?raw=true\"\n",
    "     alt=\"DigitalFuturesLogo\"\n",
    "     style=\"float: center; margin-right: 10px;\" />\n",
    "</p>\n",
    "\n",
    "[Syllabus](https://pythoninstitute.org/assets/627e61bc29de3989767095.pdf)"
   ]
  },
  {
   "cell_type": "markdown",
   "metadata": {
    "id": "wDtUjxY_Qoej"
   },
   "source": [
    "_Ex1_ Calculate the value of 'x' in the Python expression x = 19 % 4 + 15 / 2 * 3\n",
    "\n",
    "A. 5\n",
    "\n",
    "B. 26\n",
    "\n",
    "C. None of the above\n",
    "\n",
    "D. 25.5\n",
    "\n",
    "E. 4.8"
   ]
  },
  {
   "cell_type": "code",
   "execution_count": null,
   "metadata": {},
   "outputs": [],
   "source": []
  },
  {
   "cell_type": "markdown",
   "metadata": {},
   "source": [
    "<details> <summary> Click here for solutions (Ex1) </summary>\n",
    "    \n",
    "Correct answer: D\n",
    "    \n",
    "* A,B,C,E are wrong - we follow the order of operations:\n",
    "    \n",
    "    1. **\n",
    "    \n",
    "    2. unary (+, -, ~)\n",
    "    \n",
    "    3. *, /, //, %\n",
    "    \n",
    "    4. +, -\n",
    "    \n",
    "    5. <<, >>\n",
    "    \n",
    "    6. &\n",
    "    \n",
    "    7. ^\n",
    "    \n",
    "    8. |\n",
    "    \n",
    "    9. ==, !=, +=, -=, &=, ...\n",
    "    \n",
    "    10. not\n",
    "    \n",
    "    11. and\n",
    "    \n",
    "    12. or\n",
    "    \n",
    "* D is correct: 15/2 * 3 is 7.5 * 3 = 22.5 ; 19%4 = 3 :: Final answer: 3 + 22.5 = 25.5\n",
    "</details>"
   ]
  },
  {
   "cell_type": "markdown",
   "metadata": {
    "id": "3ayvg_FzXIs-"
   },
   "source": [
    "Ex2. What is the output of the following code:\n",
    "\n",
    "list('subway')[3]\n",
    "\n",
    "A. b\n",
    "\n",
    "B. w\n",
    "\n",
    "C. 3\n",
    "\n",
    "D. 2\n",
    "\n",
    "E. Error"
   ]
  },
  {
   "cell_type": "code",
   "execution_count": null,
   "metadata": {
    "id": "IFPjXKMcMQ_B"
   },
   "outputs": [],
   "source": []
  },
  {
   "cell_type": "markdown",
   "metadata": {},
   "source": [
    "<details> <summary> Click here for solutions (Ex2) </summary>\n",
    "    \n",
    "Correct answer: B\n",
    "    \n",
    "* A is wrong: b is the 3rd character, but Python is 0-indexed, meaning we are looking for 0,1,2,3 -- the 4th character, which is 'w'\n",
    "    \n",
    "* B is correct: list() makes the string into a list where each element is exactly 1 character: `['s', 'u', 'b', 'w', 'a', 'y']` and its 4th element is indeed 'w'\n",
    "    \n",
    "* C, D are wrong - we're not looking for indices\n",
    "    \n",
    "* E is wrong, the code is fine\n",
    "</details>"
   ]
  },
  {
   "cell_type": "markdown",
   "metadata": {
    "id": "9gRTFZ4meksr"
   },
   "source": [
    "Ex3. Consider the code below:\n",
    "```\n",
    "for i in range(10):\n",
    "    if i%3==0:\n",
    "        print(i, end=\" \")\n",
    "    elif i%3==1:\n",
    "        print(\"X\", end=\" \")\n",
    "    else:\n",
    "    ### code here\n",
    "```\n",
    "What would you need to replace the code with to return the following output:\n",
    "`0 X 3 X 6 X 9`\n",
    "\n",
    "A. pass\n",
    "\n",
    "B. break\n",
    "\n",
    "C. print(\"\", end=\"\")\n",
    "\n",
    "D. terminate\n",
    "\n",
    "E. continue"
   ]
  },
  {
   "cell_type": "code",
   "execution_count": null,
   "metadata": {
    "id": "JFrr_zzmnJ-p"
   },
   "outputs": [],
   "source": []
  },
  {
   "cell_type": "markdown",
   "metadata": {},
   "source": [
    "<details> <summary> Click here for solutions (Ex3) </summary>\n",
    "    \n",
    "Correct answers: A, C, E\n",
    "    \n",
    "* A is correct: If the code does nothing when i%3==2 then we get the desired output. Therefore, `pass` does the job\n",
    "    \n",
    "* B is wrong: The code will break when we hit i=2, giving only the output `0 X`\n",
    "    \n",
    "* C is correct: In this situation, we could just print nothing and replicate the same output\n",
    "    \n",
    "* D is wrong: terminate is not a keyword in Python\n",
    "    \n",
    "* E is correct: In this case jumping to the next iteration in the final branch produces the same result as passing\n",
    "    \n",
    "</details>"
   ]
  },
  {
   "cell_type": "markdown",
   "metadata": {
    "id": "-A1qyKoRjdmi"
   },
   "source": [
    "Ex4. What is the output of the following code: [**Medium**]\n",
    "\n",
    "`print(len(\"\\\\\\\\\"), \"\".join(sorted(\"Y09y\")), '3738'[::-1], sep=\"--\")`\n",
    "\n",
    "A. 4--09Yy--8373\n",
    "\n",
    "B. 2--09yY--8373\n",
    "\n",
    "C. 2--Yy09--8373\n",
    "\n",
    "D. 4--yY09--7383\n",
    "\n",
    "E. 2--09Yy--8373\n",
    "\n",
    "F. 2-0Yy9-8373"
   ]
  },
  {
   "cell_type": "code",
   "execution_count": null,
   "metadata": {
    "id": "bQOv4XpmMRFi"
   },
   "outputs": [],
   "source": []
  },
  {
   "cell_type": "markdown",
   "metadata": {},
   "source": [
    "<details> <summary> Click here for solutions (Ex4) </summary>\n",
    "    \n",
    "Correct answer: E\n",
    "    \n",
    "* A,B,C,D,F are wrong as they all get at least one component wrong. There are 4 components to this question. We'll start with the easiest one:\n",
    "    \n",
    "    - The separator: This is set to '--', so F is automatically wrong since all outputs should be separated by double, not single dash\n",
    "    - `len('\\\\\\\\')`: Since `\\` is the escape character, we escape the first escape. Same story for escapes #3 and #4 -- meaning we print out '\\\\', so the length is 2. \n",
    "    - `\"\".join(sorted(\"Y09y\"))` sorts the string as a list, then joins it back together. The rule to remember here is that in ASCII encoding (codepoint) digits are before capitals, which are before lowercase. Therefore, the correct ordering is `09Yy`\n",
    "    - Lastly, `'3738'[::-1]` is just the reverse of the string, which is '8373'.\n",
    "    \n",
    "* E is the correct answer which combines all 4 criteria above\n",
    "</details>"
   ]
  },
  {
   "cell_type": "markdown",
   "metadata": {
    "id": "3phyZGn7mDS8"
   },
   "source": [
    "Ex5. Consider the following list:\n",
    "\n",
    "`my_lst = ['A', 'C', 'Y']`\n",
    "\n",
    "We want to update the list with the element 'X' in between 'A' and 'C', without changing the order of elements. How can we achieve this?\n",
    "\n",
    "A. my_lst.insert('X', 1)\n",
    "\n",
    "B. my_lst.insert(1, 'X')\n",
    "\n",
    "C. my_lst.append('X')[::-1]\n",
    "\n",
    "D. my_lst.update('X', 1)\n",
    "\n",
    "E. my_lst.insert(0, 'X')"
   ]
  },
  {
   "cell_type": "code",
   "execution_count": null,
   "metadata": {
    "id": "JdWbAc5Ombf3"
   },
   "outputs": [],
   "source": []
  },
  {
   "cell_type": "markdown",
   "metadata": {},
   "source": [
    "<details> <summary> Click here for solutions (Ex5) </summary> \n",
    "    \n",
    "Correct answer: B\n",
    "    \n",
    "* A is wrong: It's correct syntax, but the first parameter is the position (integer), and the second the element.\n",
    "    \n",
    "* B is correct\n",
    "    \n",
    "* C is wrong, that would result in appending 'X' at the end of the list and then reversing it, i.e. `['X', 'Y', 'C', 'A']`, which does not meet the conditions of our query\n",
    "    \n",
    "* D is wrong, lists have no method update()\n",
    "    \n",
    "* E is wrong - that would insert 'X' as the first element, just before 'A'\n",
    "    \n",
    "</details>"
   ]
  },
  {
   "cell_type": "markdown",
   "metadata": {
    "id": "GcV7kuPypNgf"
   },
   "source": [
    "Ex6. What is the result of 2 ** 3 ** 2 - 15//7?\n",
    "\n",
    "A. 62\n",
    "\n",
    "B. 63\n",
    "\n",
    "C. 510\n",
    "\n",
    "D. Syntax error\n",
    "\n",
    "E. 1"
   ]
  },
  {
   "cell_type": "code",
   "execution_count": null,
   "metadata": {
    "id": "R0IbVZERnCuL"
   },
   "outputs": [],
   "source": []
  },
  {
   "cell_type": "markdown",
   "metadata": {},
   "source": [
    "<details> <summary> Click here for solutions (Ex6) </summary>\n",
    "    \n",
    "Correct answer: C\n",
    "    \n",
    "* A is wrong: All operators in Python follow the left to right rule with themselves (eg: 5 + 7 + 3 will first compute 5+7, then the sum + 3) - all EXCEPT exponentiation. Therefore, 2**3**2 != (2**3)**2 which is 64; instead 2**3**2 == 2**(3**2) == 2**9 == 512. \n",
    "    \n",
    "* B is wrong, same as above\n",
    "    \n",
    "* C is correct. Following from option A, we get 512 - 15//7 and 15//7 is 2: so 512 - 2 = 510.\n",
    "    \n",
    "* D is wrong, since the code runs\n",
    "    \n",
    "* E is just wrong\n",
    "    \n",
    "</details>"
   ]
  },
  {
   "cell_type": "markdown",
   "metadata": {
    "id": "_Rrq_bcBsxJ3"
   },
   "source": [
    "Ex7. Consider the following code: [**Medium**]\n",
    "\n",
    "```\n",
    "List=[]\n",
    "for v in ['a', 'c', 'b', 'd']:\n",
    "    for i in range(0,5,2):\n",
    "        if ord(v)%2==0:\n",
    "            List.append(v+\"-\"+str(i))\n",
    "        else:\n",
    "            continue\n",
    "```\n",
    "Which of the following are true?:\n",
    "\n",
    "A. 'b-4' in List and 'c-3' in List\n",
    "\n",
    "B. 'a-1' in List and 'a-3' in List\n",
    "\n",
    "C. 'a-4' in List xor 'c-4' in List\n",
    "\n",
    "D. ('b-0' in List and 'd-1' in List) or ('b-1' in List and 'd-0' in List)\n",
    "\n",
    "E. None of the above"
   ]
  },
  {
   "cell_type": "code",
   "execution_count": null,
   "metadata": {
    "id": "3HHZtm_YtVHp"
   },
   "outputs": [],
   "source": []
  },
  {
   "cell_type": "markdown",
   "metadata": {},
   "source": [
    "<details> <summary> Click here for solutions (Ex7) </summary>\n",
    "    \n",
    "Correct answer: E\n",
    "    \n",
    "* A is wrong because b and c cannot possibly be in the list together, since if one of them has odd codepoint order, the other has even codepoint order and vice-versa. Therefore, only [a,c] or [b,d] can be together.\n",
    "    \n",
    "* B is wrong because we iterate at a step of two starting from 0: Meaning we get 0,2 and 4\n",
    "    \n",
    "* C is wrong for two reasons, one you are expected to know another that you're not. The one you're expected to deduce is that if one of them is in the list (i.e. has even order), then so is the other since its order is +/- 2 of the other -- so the exclusivity does not apply. Moreover, what you may not know and are not expected to, is that `ord(a) == 97` which is odd.\n",
    "    \n",
    "* D is wrong as 1's are not in the List, as discussed in option B.\n",
    "    \n",
    "* E is correct, since all other options are wrong.\n",
    "    \n",
    "</details>"
   ]
  },
  {
   "cell_type": "markdown",
   "metadata": {
    "id": "F2EwzGYGuNPn"
   },
   "source": [
    "Ex8. What's the output of the following code: (ignoring the class) \n",
    "\n",
    "`print(type([5]), type((5)), type({5}), sep=\" ,\")`\n",
    "\n",
    "A. list, int, dict\n",
    "\n",
    "B. list, tuple, set\n",
    "\n",
    "C. list, tuple, dict\n",
    "\n",
    "D. tuple, tuple, set\n",
    "\n",
    "E. list, int, set"
   ]
  },
  {
   "cell_type": "code",
   "execution_count": null,
   "metadata": {
    "id": "uizisJW7ul8n"
   },
   "outputs": [],
   "source": []
  },
  {
   "cell_type": "markdown",
   "metadata": {},
   "source": [
    "<details> <summary> Click here for solutions (Ex8) </summary>\n",
    "    \n",
    "Correct answer: E\n",
    "    \n",
    "* A is wrong, since `{5}` is not a dictionary, but a set. A dictionary expects two elements, a key and a value pair. With just one value, that is in fact a set.\n",
    "    \n",
    "* B is wrong, because `(5)` is not a tuple. On its own, without a comma following it, Python automatically reduces it to an integer. \n",
    "    \n",
    "* C is wrong for the reasons of A and B combined.\n",
    "    \n",
    "* D is wrong, since the first entry is evidently a list\n",
    "    \n",
    "* E is correct\n",
    "    \n",
    "</details>"
   ]
  },
  {
   "cell_type": "markdown",
   "metadata": {
    "id": "XKyXMhT1v3v-"
   },
   "source": [
    "Ex9. 0o142 > 0X142\n",
    "\n",
    "A. True\n",
    "\n",
    "B. False\n",
    "\n",
    "C. SyntaxError\n",
    "\n",
    "D. TypeError\n",
    "\n",
    "E. ValueError"
   ]
  },
  {
   "cell_type": "code",
   "execution_count": null,
   "metadata": {
    "id": "Db5iKsDRwXCG"
   },
   "outputs": [],
   "source": []
  },
  {
   "cell_type": "markdown",
   "metadata": {},
   "source": [
    "<details> <summary> Click here for solutions (Ex9) </summary>\n",
    "    \n",
    "Correct answer: B\n",
    "    \n",
    "* A is wrong. You don't even need to compute the transformation of 142 in octals and hexadecimals respectively - Clearly, since it's the same number, the hexadecimals will be larger than the octals.\n",
    "    \n",
    "* B is correct - for the same reason A is wrong\n",
    "    \n",
    "* C,D and E are wrong - since there is nothing wrong with the error\n",
    "    \n",
    "</details>"
   ]
  },
  {
   "cell_type": "markdown",
   "metadata": {
    "id": "_ELmc13Twvxr"
   },
   "source": [
    "Ex10. Consider the following comprehension: [**Hard**]\n",
    "\n",
    "```dic = {'apple':0, 'chocolate':1} ```\n",
    "\n",
    "```dic2 = {number:{key:value for value, key in dic.items()} for number in [0,1,2]}```\n",
    "\n",
    "What will the code `set(list(dic2.values()))` output:\n",
    "\n",
    "A. {0,1,2}\n",
    "\n",
    "B. {'apple':0, 'chocolate':1}\n",
    "\n",
    "C. TypeError\n",
    "\n",
    "D. {0:'apple', 'chocolate':1}\n",
    "\n",
    "E. {[0:'apple', 'chocolate':1], [0:'apple', 'chocolate':1], [0:'apple', 'chocolate':1]}"
   ]
  },
  {
   "cell_type": "code",
   "execution_count": null,
   "metadata": {},
   "outputs": [],
   "source": []
  },
  {
   "cell_type": "markdown",
   "metadata": {},
   "source": [
    "<details> <summary> Click here for solutions (Ex10) </summary>\n",
    "    \n",
    "Correct answer: C\n",
    "    \n",
    "* A,B,D and E are wrong - since the code will error. The reason is that the code is 2 dictionary comprehensions within each other. The first one simply swaps the key and value pair from the original dictionary, generating `{0:'apple', 1:'chocolate'}`. We then use the dictionary as a repeated value, for the keys [0,1,2]. So the resulting dictionary at the end is 3 items: keys being [0,1,2] and the same value. When we try to make it into a set, you might expect the result to be option D - but dictionaries cannot be made unique using sets, throwing a TypeError.\n",
    "    \n",
    "</details>"
   ]
  },
  {
   "cell_type": "markdown",
   "metadata": {
    "id": "3dk83hU5z3pf"
   },
   "source": [
    "Ex11. Consider the code below:\n",
    "```\n",
    "gen = (x for x in range(6))\n",
    "gen.__next__()\n",
    "gen.__next__()\n",
    "lst = [gen.__next__() for i in range(3)]\n",
    "\n",
    "print(lst)\n",
    "```\n",
    "What does it output:\n",
    "\n",
    "A. [2,3,4]\n",
    "\n",
    "B. [0,1,2]\n",
    "\n",
    "C. [0,1,2,3]\n",
    "\n",
    "D. [3,4,5]\n",
    "\n",
    "E. [1,2,3]"
   ]
  },
  {
   "cell_type": "code",
   "execution_count": null,
   "metadata": {},
   "outputs": [],
   "source": []
  },
  {
   "cell_type": "markdown",
   "metadata": {},
   "source": [
    "<details> <summary> Click here for solutions (Ex11) </summary>\n",
    "Correct answer: A\n",
    "    \n",
    "* B,C,D and E are wrong - we have to follow the code. gen is a generator containing the range(6), which are elements 0,1,2,3,4,5. For generators, once an element is called, it gets erased (or rather emptied) - think of them like containers. So when we first run `gen.__next__()` calling the next element, we pop out 0 (the first element in the list). We call it again, popping the next element, i.e. 1. Currently, our generator is now (2,3,4,5). The `lst` we create will pop out 3 consecutive iterations from our generator, meaning [2,3,4] - which is the correct answer.\n",
    "    \n",
    "* A is correct as described above\n",
    "</details>"
   ]
  },
  {
   "cell_type": "markdown",
   "metadata": {
    "id": "GrbQxHMG2KAp"
   },
   "source": [
    "Ex12. Which of the following keywords is NOT part of an exception handling branch?\n",
    "\n",
    "A. else\n",
    "\n",
    "B. try\n",
    "\n",
    "C. if\n",
    "\n",
    "D. finally\n",
    "\n",
    "E. except"
   ]
  },
  {
   "cell_type": "code",
   "execution_count": null,
   "metadata": {
    "id": "qMyjRKAZ1PNW"
   },
   "outputs": [],
   "source": []
  },
  {
   "cell_type": "markdown",
   "metadata": {},
   "source": [
    "<details> <summary> Click here for solutions (Ex12) </summary>\n",
    "    \n",
    "Correct answer: C\n",
    "    \n",
    "* A,B,D and E are wrong because they're all part (or potentially part) of an exception branch. B and E are crucial, whereas B and D are optional and come after.\n",
    "    \n",
    "* C is correct - if statements cannot be used in an exception branch\n",
    "    \n",
    "</details>"
   ]
  },
  {
   "cell_type": "markdown",
   "metadata": {
    "id": "AlJGf_EN3jGg"
   },
   "source": [
    "Ex13. What's the output of the following code:\n",
    "```\n",
    "a = 5\n",
    "b = a\n",
    "c = b\n",
    "del a\n",
    "del c\n",
    "c= 3\n",
    "c = b\n",
    "print(c)\n",
    "```\n",
    "A. 5\n",
    "\n",
    "B. 3\n",
    "\n",
    "C. NameError\n",
    "\n",
    "D. 'b'\n",
    "\n",
    "E. ValueError"
   ]
  },
  {
   "cell_type": "code",
   "execution_count": null,
   "metadata": {},
   "outputs": [],
   "source": []
  },
  {
   "cell_type": "markdown",
   "metadata": {},
   "source": [
    "<details> <summary> Click here for solutions (Ex13) </summary>\n",
    "    \n",
    "Correct answer: A\n",
    "    \n",
    "* A is correct: a takes value 5, b takes a's value which is 5, and c takes b's value which is 5. We then delete the variables a and c. This obviously does not change b's value nor deletes it. We then create a new variable c which is set to 3, and then set its value again to take b's value which is 5. So c's final value is 5.\n",
    "    \n",
    "* B,C,D and E are wrong based on the above\n",
    "    \n",
    "</details>"
   ]
  },
  {
   "cell_type": "markdown",
   "metadata": {
    "id": "lgxJYKDgWXmW"
   },
   "source": [
    "Ex14. What will the following exception handling branch output? (ignoring newlines) [**Medium**]\n",
    "```\n",
    "try:\n",
    "    for i in range(3):\n",
    "        print(1/(i-2))\n",
    "except NameError:\n",
    "    print(\"X\")\n",
    "except ArithmeticError:\n",
    "    print(\"Y\")\n",
    "except ZeroDivisionError:\n",
    "    print(\"Z\")\n",
    "else:\n",
    "    print(\"?\")\n",
    "finally:\n",
    "    print(\"Fin!\")\n",
    "```\n",
    "A. -0.5, -1.0, X, Fin!\n",
    "\n",
    "B. Y, Fin!\n",
    "\n",
    "C. Z, Fin!\n",
    "\n",
    "D. -0.5, -1.0, Y, ?, Fin!\n",
    "\n",
    "E. Y, Z, Fin!\n",
    "\n",
    "F. -0.5, -1.0, Y, Fin!"
   ]
  },
  {
   "cell_type": "code",
   "execution_count": null,
   "metadata": {
    "id": "5MtSl_7RXANc"
   },
   "outputs": [],
   "source": []
  },
  {
   "cell_type": "markdown",
   "metadata": {
    "id": "rgN2bPQ0XiCs"
   },
   "source": [
    "<details> <summary> Click here for solutions (Ex14) </summary>\n",
    "    \n",
    "Correct answer: F\n",
    "    \n",
    "* A,B,C,D and E are wrong: When we hit i=2 in the iteration, we get a zerodivision error. We still print the first two values, which are -.5 and -1 respectively. It is not under the `NameError` branch, meaning we go to the next exception. The `ZeroDivisionError` sits under the `ArithmeticError` class, meaning that the exception branch will trigger - printing 'Y'. Lastly, the finally statement will always trigger regardless of everything above it, printing 'Fin!'.\n",
    "    \n",
    "* F is correct based on the above\n",
    "</details>"
   ]
  },
  {
   "cell_type": "markdown",
   "metadata": {
    "id": "N3ttPnl4YGjY"
   },
   "source": [
    "Ex15. Take the following function:\n",
    "```\n",
    "def my_operation(x,y,z):\n",
    "    return (x**y-z + y**z-x + z**y-x)/(2*x*y + 2*y*z+2*z*x)\n",
    "```\n",
    "What is the result of `my_operation(x=1,2,2)`:\n",
    "\n",
    "A. 0.3125\n",
    "\n",
    "B. 0.355\n",
    "\n",
    "C. ZeroDivisionError\n",
    "\n",
    "D. 1.5\n",
    "\n",
    "E. SyntaxError"
   ]
  },
  {
   "cell_type": "code",
   "execution_count": null,
   "metadata": {
    "id": "F6NwzdZrjecZ"
   },
   "outputs": [],
   "source": []
  },
  {
   "cell_type": "markdown",
   "metadata": {
    "id": "wBES8XYseotb"
   },
   "source": [
    "<details> <summary> Click here for solutions (Ex15) </summary>\n",
    "  \n",
    "Correct answer: E\n",
    "    \n",
    "* A,B, C and D are wrong because we cannot specify keyword arguments before positional arguments\n",
    "    \n",
    "* E is correct - the error falls under a simple `SyntaxError`\n",
    "</details>"
   ]
  },
  {
   "cell_type": "markdown",
   "metadata": {
    "id": "BAVDiNsXjeu4"
   },
   "source": [
    "Ex16. What is the output of this code? [**Hard**]\n",
    "```\n",
    "x=17\n",
    "v = 6\n",
    "while x>0:\n",
    "    x = x>>1\n",
    "    x+=v\n",
    "    v//=2\n",
    "    print(\"X\",end=\"\")\n",
    "```\n",
    "A. XXXXX\n",
    "\n",
    "B. XXXX\n",
    "\n",
    "C. XXXXXX\n",
    "\n",
    "D. XXXXXXXX\n",
    "\n",
    "E. XXX"
   ]
  },
  {
   "cell_type": "code",
   "execution_count": null,
   "metadata": {},
   "outputs": [],
   "source": []
  },
  {
   "cell_type": "markdown",
   "metadata": {
    "id": "Sa-jKqfIjkKP"
   },
   "source": [
    "<details> <summary> Click here for solutions (Ex16) </summary>\n",
    "    \n",
    "Correct answer: C\n",
    "    \n",
    "* A,B,D and E are wrong - we need to follow the problem. We start with `x=17` and `v=6`, and start moving x bitwise one to the right. x in bitwise initially is 10001; moving it one to the left means we get 1000 which in integers is 8. We then add 6 to it, making it 8+6 = 14, and print one 'X'. This process repeats, but will finish, since v also gets downgraded to 3. The following iterations occur:\n",
    "    - START: x=17 || v = 6 || (0 X)\n",
    "    - IT1: x=14 || v = 3 || (1 X)\n",
    "    - IT2: x=10 || v = 1 || (2 X)\n",
    "    - IT3: x=6 || v = 0 || (3 X)\n",
    "    - IT4: x=2 || v=0 || (4 X)\n",
    "    - IT5: x=1 || v = 0 || (5 X)\n",
    "    - IT6: x=0 || v = 0 || (6 X) ---- which is when the iteration stops\n",
    "    \n",
    "* C is correct: by the iterations above, we get 6 X's printed out.\n",
    "</details>"
   ]
  }
 ],
 "metadata": {
  "colab": {
   "provenance": []
  },
  "kernelspec": {
   "display_name": "Python 3 (ipykernel)",
   "language": "python",
   "name": "python3"
  },
  "language_info": {
   "codemirror_mode": {
    "name": "ipython",
    "version": 3
   },
   "file_extension": ".py",
   "mimetype": "text/x-python",
   "name": "python",
   "nbconvert_exporter": "python",
   "pygments_lexer": "ipython3",
   "version": "3.9.17"
  }
 },
 "nbformat": 4,
 "nbformat_minor": 1
}
